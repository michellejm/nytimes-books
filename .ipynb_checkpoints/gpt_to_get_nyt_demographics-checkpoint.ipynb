{
 "cells": [
  {
   "cell_type": "code",
   "execution_count": 20,
   "id": "aa5e843e-dc4c-471f-a8b2-e36953fab831",
   "metadata": {
    "ExecuteTime": {
     "end_time": "2025-01-22T20:31:12.494391Z",
     "start_time": "2025-01-22T20:31:11.859596Z"
    }
   },
   "outputs": [],
   "source": [
    "import pandas as pd\n",
    "import numpy as np\n",
    "import openai\n",
    "import os"
   ]
  },
  {
   "cell_type": "markdown",
   "id": "8ed1d9ce-e839-4f0f-82bb-0da8da5ff232",
   "metadata": {},
   "source": [
    "# Use GPT to gather data about the nyt authors"
   ]
  },
  {
   "cell_type": "code",
   "execution_count": 64,
   "id": "db46b6a5-09c9-4bd2-98df-bf74f2af7777",
   "metadata": {},
   "outputs": [
    {
     "data": {
      "text/html": [
       "<div>\n",
       "<style scoped>\n",
       "    .dataframe tbody tr th:only-of-type {\n",
       "        vertical-align: middle;\n",
       "    }\n",
       "\n",
       "    .dataframe tbody tr th {\n",
       "        vertical-align: top;\n",
       "    }\n",
       "\n",
       "    .dataframe thead th {\n",
       "        text-align: right;\n",
       "    }\n",
       "</style>\n",
       "<table border=\"1\" class=\"dataframe\">\n",
       "  <thead>\n",
       "    <tr style=\"text-align: right;\">\n",
       "      <th></th>\n",
       "      <th>year</th>\n",
       "      <th>week</th>\n",
       "      <th>rank</th>\n",
       "      <th>title_id</th>\n",
       "      <th>title</th>\n",
       "      <th>author</th>\n",
       "      <th>multiple</th>\n",
       "      <th>problem</th>\n",
       "    </tr>\n",
       "  </thead>\n",
       "  <tbody>\n",
       "    <tr>\n",
       "      <th>0</th>\n",
       "      <td>1931</td>\n",
       "      <td>1931-10-12</td>\n",
       "      <td>1</td>\n",
       "      <td>6477</td>\n",
       "      <td>THE TEN COMMANDMENTS</td>\n",
       "      <td>Warwick Deeping</td>\n",
       "      <td>False</td>\n",
       "      <td>False</td>\n",
       "    </tr>\n",
       "    <tr>\n",
       "      <th>1</th>\n",
       "      <td>1931</td>\n",
       "      <td>1931-10-12</td>\n",
       "      <td>2</td>\n",
       "      <td>1808</td>\n",
       "      <td>FINCHE'S FORTUNE</td>\n",
       "      <td>Mazo de la Roche</td>\n",
       "      <td>False</td>\n",
       "      <td>False</td>\n",
       "    </tr>\n",
       "    <tr>\n",
       "      <th>2</th>\n",
       "      <td>1931</td>\n",
       "      <td>1931-10-12</td>\n",
       "      <td>3</td>\n",
       "      <td>5304</td>\n",
       "      <td>THE GOOD EARTH</td>\n",
       "      <td>Pearl S. Buck</td>\n",
       "      <td>False</td>\n",
       "      <td>False</td>\n",
       "    </tr>\n",
       "    <tr>\n",
       "      <th>3</th>\n",
       "      <td>1931</td>\n",
       "      <td>1931-10-12</td>\n",
       "      <td>4</td>\n",
       "      <td>4038</td>\n",
       "      <td>SHADOWS ON THE ROCK</td>\n",
       "      <td>Willa Cather</td>\n",
       "      <td>False</td>\n",
       "      <td>False</td>\n",
       "    </tr>\n",
       "    <tr>\n",
       "      <th>4</th>\n",
       "      <td>1931</td>\n",
       "      <td>1931-10-12</td>\n",
       "      <td>5</td>\n",
       "      <td>3946</td>\n",
       "      <td>SCARMOUCHE THE KING MAKER</td>\n",
       "      <td>Rafael Sabatini</td>\n",
       "      <td>False</td>\n",
       "      <td>False</td>\n",
       "    </tr>\n",
       "  </tbody>\n",
       "</table>\n",
       "</div>"
      ],
      "text/plain": [
       "   year        week  rank  title_id                      title  \\\n",
       "0  1931  1931-10-12     1      6477       THE TEN COMMANDMENTS   \n",
       "1  1931  1931-10-12     2      1808           FINCHE'S FORTUNE   \n",
       "2  1931  1931-10-12     3      5304             THE GOOD EARTH   \n",
       "3  1931  1931-10-12     4      4038        SHADOWS ON THE ROCK   \n",
       "4  1931  1931-10-12     5      3946  SCARMOUCHE THE KING MAKER   \n",
       "\n",
       "             author  multiple  problem  \n",
       "0   Warwick Deeping     False    False  \n",
       "1  Mazo de la Roche     False    False  \n",
       "2     Pearl S. Buck     False    False  \n",
       "3      Willa Cather     False    False  \n",
       "4   Rafael Sabatini     False    False  "
      ]
     },
     "execution_count": 64,
     "metadata": {},
     "output_type": "execute_result"
    }
   ],
   "source": [
    "nyt_single = pd.read_csv(\"nyt_single_authors.csv\")\n",
    "nyt_single.head()"
   ]
  },
  {
   "cell_type": "code",
   "execution_count": 44,
   "id": "6bf7fd10-3fe6-45c6-bbd9-337b99f90eb4",
   "metadata": {
    "ExecuteTime": {
     "end_time": "2025-01-22T20:28:49.854810Z",
     "start_time": "2025-01-22T20:28:49.851509Z"
    }
   },
   "outputs": [],
   "source": [
    "#make a list of all the authors\n",
    "nyt_single_authors = nyt_single.author.unique()\n",
    "nyt_single_authors_five = nyt_single_authors[:5]"
   ]
  },
  {
   "cell_type": "code",
   "execution_count": 58,
   "id": "a34dccb179a7919b",
   "metadata": {
    "ExecuteTime": {
     "end_time": "2025-01-22T20:29:30.846706Z",
     "start_time": "2025-01-22T20:29:30.832694Z"
    }
   },
   "outputs": [
    {
     "name": "stdout",
     "output_type": "stream",
     "text": [
      "                 birth  death             race_eth           education  \\\n",
      "Warwick Deeping   1877   1950              English                None   \n",
      "Mazo de la Roche  1879   1961             Canadian                None   \n",
      "Pearl S. Buck     1892   1973            Caucasian               Ph.D.   \n",
      "Willa Cather      1873   1947             American   Bachelor's Degree   \n",
      "Rafael Sabatini   1875   1950              Italian                None   \n",
      "...                ...    ...                  ...                 ...   \n",
      "Lana Del Rey      1985    N/A                White                None   \n",
      "Matt Haig         1975    N/A                White   Bachelor's Degree   \n",
      "Rumaan Alam       1977    N/A   Pakistani-American   Bachelor’s Degree   \n",
      "Susie Yang        1983    N/A       Asian American                 MFA   \n",
      "Halsey            1994    N/A                White   Bachelor's Degree   \n",
      "\n",
      "                                      institution  \n",
      "Warwick Deeping                              None  \n",
      "Mazo de la Roche                             None  \n",
      "Pearl S. Buck                  Cornell University  \n",
      "Willa Cather       University of Nebraska-Lincoln  \n",
      "Rafael Sabatini                              None  \n",
      "...                                           ...  \n",
      "Lana Del Rey                                 None  \n",
      "Matt Haig                      University of Kent  \n",
      "Rumaan Alam                University of Michigan  \n",
      "Susie Yang               University of California  \n",
      "Halsey              Rhode Island School of Design  \n",
      "\n",
      "[2020 rows x 5 columns]\n"
     ]
    },
    {
     "data": {
      "text/plain": [
       "0"
      ]
     },
     "execution_count": 58,
     "metadata": {},
     "output_type": "execute_result"
    }
   ],
   "source": [
    "myapikey = open('my_gpt_apikey.txt').readline().rstrip()\n",
    "\n",
    "client = openai.OpenAI(api_key = myapikey)\n",
    "\n",
    "df = pd.DataFrame(columns=['birth','death','race_eth','education', 'institution'], index= nyt_single_authors)\n",
    "\n",
    "for author in nyt_single_authors:\n",
    "    completion = client.chat.completions.create(\n",
    "        model=\"gpt-4o-mini\",\n",
    "        messages=[\n",
    "            {\"role\": \"system\", \"content\": \"\"\"You are a literary historian. \n",
    "            You reply with only the requested information, not a complete sentence, and no headers. \n",
    "            If you do not know information, fill it in with None.\n",
    "            If an author is still living, fill in the death year with N/A.\n",
    "            For example, if the author is Chimamanda Ngozi Adichie, you would return: 1977, N/A, Nigerian, Master's Degree, Johns Hopkins University\"\"\"},\n",
    "            {\n",
    "                \"role\": \"user\",\n",
    "                \"content\": \"\"\"What is the birth year, death year, race/ethnicity, highest level of education, and \n",
    "                college or university of \"\"\"+author\n",
    "            }\n",
    "        ]\n",
    "    )\n",
    "    my_response = completion.choices[0].message.content\n",
    "    #print(my_response)\n",
    "    response_list = my_response.split(',')\n",
    "    df.loc[author] = pd.Series({'birth':response_list[0],'death':response_list[1],'race_eth':response_list[2],'education':response_list[3], 'institution':response_list[4]})\n",
    "\n",
    "\n",
    "print(df)\n",
    "os.system('say \"your program has finished\"')"
   ]
  },
  {
   "cell_type": "code",
   "execution_count": null,
   "id": "974d93d2-d0a4-4025-974a-806218c43335",
   "metadata": {},
   "outputs": [],
   "source": []
  },
  {
   "cell_type": "code",
   "execution_count": null,
   "id": "6190b641-0e44-4983-b08a-00de9ee2192d",
   "metadata": {},
   "outputs": [],
   "source": []
  },
  {
   "cell_type": "code",
   "execution_count": null,
   "id": "c6a05963-a045-4425-a648-1c0aaacdb9c4",
   "metadata": {},
   "outputs": [],
   "source": []
  },
  {
   "cell_type": "code",
   "execution_count": null,
   "id": "271db348-6a50-451a-8f8e-612c95bee494",
   "metadata": {},
   "outputs": [],
   "source": []
  }
 ],
 "metadata": {
  "kernelspec": {
   "display_name": "Python [conda env:base] *",
   "language": "python",
   "name": "conda-base-py"
  },
  "language_info": {
   "codemirror_mode": {
    "name": "ipython",
    "version": 3
   },
   "file_extension": ".py",
   "mimetype": "text/x-python",
   "name": "python",
   "nbconvert_exporter": "python",
   "pygments_lexer": "ipython3",
   "version": "3.12.7"
  }
 },
 "nbformat": 4,
 "nbformat_minor": 5
}
