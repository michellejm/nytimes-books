{
 "cells": [
  {
   "cell_type": "code",
   "execution_count": 78,
   "id": "aa5e843e-dc4c-471f-a8b2-e36953fab831",
   "metadata": {
    "ExecuteTime": {
     "end_time": "2025-01-22T20:31:12.494391Z",
     "start_time": "2025-01-22T20:31:11.859596Z"
    }
   },
   "outputs": [],
   "source": [
    "import pandas as pd\n",
    "import numpy as np\n",
    "import openai\n",
    "import os"
   ]
  },
  {
   "cell_type": "code",
   "execution_count": 80,
   "id": "383d6867-8a02-45fc-a8bf-050ee873c820",
   "metadata": {},
   "outputs": [],
   "source": [
    "myapikey = open('my_gpt_apikey.txt').readline().rstrip()\n",
    "\n",
    "client = openai.OpenAI(api_key = myapikey)"
   ]
  },
  {
   "cell_type": "markdown",
   "id": "8ed1d9ce-e839-4f0f-82bb-0da8da5ff232",
   "metadata": {},
   "source": [
    "# Use GPT to gather data about the nyt authors"
   ]
  },
  {
   "cell_type": "code",
   "execution_count": null,
   "id": "db46b6a5-09c9-4bd2-98df-bf74f2af7777",
   "metadata": {},
   "outputs": [],
   "source": [
    "nyt_single = pd.read_csv(\"nyt_single_authors.csv\")\n",
    "nyt_single.head()"
   ]
  },
  {
   "cell_type": "code",
   "execution_count": null,
   "id": "6bf7fd10-3fe6-45c6-bbd9-337b99f90eb4",
   "metadata": {
    "ExecuteTime": {
     "end_time": "2025-01-22T20:28:49.854810Z",
     "start_time": "2025-01-22T20:28:49.851509Z"
    }
   },
   "outputs": [],
   "source": [
    "#make a list of all the authors\n",
    "nyt_single_authors = nyt_single.author.unique()\n",
    "nyt_single_authors_five = nyt_single_authors[:5]"
   ]
  },
  {
   "cell_type": "code",
   "execution_count": 37,
   "id": "9dd68a70-775b-43e9-8198-cc51a6f25907",
   "metadata": {},
   "outputs": [],
   "source": [
    "def get_basic_demographics(my_author_list):\n",
    "    df = pd.DataFrame(columns=['birth','death','race_eth','education', 'institution'], index= my_author_list)\n",
    "    for author in my_author_list:\n",
    "        completion = client.chat.completions.create(\n",
    "            model=\"gpt-4o-mini\",\n",
    "            messages=[\n",
    "                {\"role\": \"system\", \"content\": \"\"\"You are a literary historian. \n",
    "                You reply with only the requested information, not a complete sentence, and no headers. \n",
    "                If you do not know information, fill it in with None.\n",
    "                If an author is still living, fill in the death year with N/A.\n",
    "                For example, if the author is Chimamanda Ngozi Adichie, you would return: 1977, N/A, Nigerian, Master's Degree, Johns Hopkins University\"\"\"},\n",
    "                {\n",
    "                    \"role\": \"user\",\n",
    "                    \"content\": \"\"\"What is the birth year, death year, race/ethnicity, highest level of education, and \n",
    "                    college or university of \"\"\"+author\n",
    "                }\n",
    "            ]\n",
    "        )\n",
    "        my_response = completion.choices[0].message.content\n",
    "        #print(my_response)\n",
    "        response_list = my_response.split(',')\n",
    "        df.loc[author] = pd.Series({'birth':response_list[0],'death':response_list[1],'race_eth':response_list[2],'education':response_list[3], 'institution':response_list[4]})\n",
    "        \n",
    "    df = df.reset_index()\n",
    "    df.rename(columns = {\"index\":\"author\"}, inplace = True)\n",
    "    \n",
    "    return(df)\n",
    "\n"
   ]
  },
  {
   "cell_type": "code",
   "execution_count": 45,
   "id": "6190b641-0e44-4983-b08a-00de9ee2192d",
   "metadata": {},
   "outputs": [],
   "source": [
    "def get_birthplace(my_author_list):\n",
    "    df = pd.DataFrame(columns=['birthplace'], index= my_author_list)\n",
    "    \n",
    "    for author in my_author_list:\n",
    "        completion = client.chat.completions.create(\n",
    "            model=\"gpt-4o-mini\",\n",
    "            messages=[\n",
    "                {\"role\": \"system\", \"content\": \"\"\"You are a literary historian. \n",
    "                You reply with only the requested information, not a complete sentence, and no headers. \n",
    "                Give the most detailed information you can find, including city, state, country\n",
    "                If you do not know information, fill it in with None.\n",
    "                For example, if the author is Pearl S. Buck, you would return: Hillsboro, WV, USA\"\"\"},\n",
    "                {\n",
    "                    \"role\": \"user\",\n",
    "                    \"content\": \"\"\"What is the birthplace of \"\"\"+author\n",
    "                }\n",
    "            ]\n",
    "        )\n",
    "        my_response = completion.choices[0].message.content\n",
    "        #print(my_response)\n",
    "        df.loc[author] = pd.Series({'birthplace':my_response})\n",
    "\n",
    "    df = df.reset_index()\n",
    "    df.rename(columns = {\"index\":\"author\"}, inplace = True)    \n",
    "    return df\n",
    "\n"
   ]
  },
  {
   "cell_type": "markdown",
   "id": "39368411-5a5e-4f5d-8c78-c7e280010fad",
   "metadata": {},
   "source": [
    "## Get demographics for single authors"
   ]
  },
  {
   "cell_type": "code",
   "execution_count": null,
   "id": "5dd706b6-07a3-489a-a096-2e314a0d831d",
   "metadata": {},
   "outputs": [],
   "source": [
    "df = get_basic_demographics(nyt_single_authors)\n",
    "print(df.head())\n",
    "\n",
    "df.to_csv(\"nyt_single_author_demographics.csv\")\n",
    "os.system('say \"your program has finished\"')"
   ]
  },
  {
   "cell_type": "code",
   "execution_count": null,
   "id": "0ddab814-0611-4092-8ac8-98afcaed2243",
   "metadata": {},
   "outputs": [],
   "source": [
    "df1 = get_birthplace(nyt_single_authors)\n",
    "df1.to_csv(\"nyt_single_author_birthplace.csv\")\n",
    "print(df1.head())\n",
    "\n",
    "os.system('say \"your program has finished\"')"
   ]
  },
  {
   "cell_type": "markdown",
   "id": "5bb0616e-eec8-4ae5-b241-062d76b9ed0f",
   "metadata": {},
   "source": [
    "## Get demographics for the fixed authors"
   ]
  },
  {
   "cell_type": "code",
   "execution_count": 11,
   "id": "c6a05963-a045-4425-a648-1c0aaacdb9c4",
   "metadata": {},
   "outputs": [
    {
     "data": {
      "text/html": [
       "<div>\n",
       "<style scoped>\n",
       "    .dataframe tbody tr th:only-of-type {\n",
       "        vertical-align: middle;\n",
       "    }\n",
       "\n",
       "    .dataframe tbody tr th {\n",
       "        vertical-align: top;\n",
       "    }\n",
       "\n",
       "    .dataframe thead th {\n",
       "        text-align: right;\n",
       "    }\n",
       "</style>\n",
       "<table border=\"1\" class=\"dataframe\">\n",
       "  <thead>\n",
       "    <tr style=\"text-align: right;\">\n",
       "      <th></th>\n",
       "      <th>author_x</th>\n",
       "      <th>birth</th>\n",
       "      <th>death</th>\n",
       "      <th>race_eth</th>\n",
       "      <th>education</th>\n",
       "      <th>institution</th>\n",
       "      <th>year</th>\n",
       "      <th>week</th>\n",
       "      <th>rank</th>\n",
       "      <th>title_id</th>\n",
       "      <th>title</th>\n",
       "      <th>author_y</th>\n",
       "      <th>problem</th>\n",
       "      <th>author_alt</th>\n",
       "      <th>author_1</th>\n",
       "      <th>author_2</th>\n",
       "      <th>_merge</th>\n",
       "    </tr>\n",
       "  </thead>\n",
       "  <tbody>\n",
       "    <tr>\n",
       "      <th>0</th>\n",
       "      <td>NaN</td>\n",
       "      <td>NaN</td>\n",
       "      <td>NaN</td>\n",
       "      <td>NaN</td>\n",
       "      <td>NaN</td>\n",
       "      <td>NaN</td>\n",
       "      <td>1995.0</td>\n",
       "      <td>1995-12-31</td>\n",
       "      <td>14.0</td>\n",
       "      <td>6336.0</td>\n",
       "      <td>THE SMALL ONE</td>\n",
       "      <td>Alex Walsh. Illustrated by Jesse Clay</td>\n",
       "      <td>True</td>\n",
       "      <td>Alex Walsh</td>\n",
       "      <td>Alex Walsh</td>\n",
       "      <td>NaN</td>\n",
       "      <td>right_only</td>\n",
       "    </tr>\n",
       "    <tr>\n",
       "      <th>1</th>\n",
       "      <td>NaN</td>\n",
       "      <td>NaN</td>\n",
       "      <td>NaN</td>\n",
       "      <td>NaN</td>\n",
       "      <td>NaN</td>\n",
       "      <td>NaN</td>\n",
       "      <td>2008.0</td>\n",
       "      <td>2008-03-02</td>\n",
       "      <td>15.0</td>\n",
       "      <td>974.0</td>\n",
       "      <td>CELEBUTANTES</td>\n",
       "      <td>Amanda Goldberg and Ruthanna Khalighi Hopper</td>\n",
       "      <td>True</td>\n",
       "      <td>Amanda Goldberg and Ruthanna Khalighi Hopper</td>\n",
       "      <td>Amanda Goldberg</td>\n",
       "      <td>Ruthanna Khalighi Hopper</td>\n",
       "      <td>right_only</td>\n",
       "    </tr>\n",
       "    <tr>\n",
       "      <th>2</th>\n",
       "      <td>NaN</td>\n",
       "      <td>NaN</td>\n",
       "      <td>NaN</td>\n",
       "      <td>NaN</td>\n",
       "      <td>NaN</td>\n",
       "      <td>NaN</td>\n",
       "      <td>2011.0</td>\n",
       "      <td>2011-01-23</td>\n",
       "      <td>9.0</td>\n",
       "      <td>6836.0</td>\n",
       "      <td>THREE SECONDS</td>\n",
       "      <td>Anders Roslund and Borge Hellstrom</td>\n",
       "      <td>True</td>\n",
       "      <td>Anders Roslund and Borge Hellstrom</td>\n",
       "      <td>Anders Roslund</td>\n",
       "      <td>Borge Hellstrom</td>\n",
       "      <td>right_only</td>\n",
       "    </tr>\n",
       "    <tr>\n",
       "      <th>3</th>\n",
       "      <td>NaN</td>\n",
       "      <td>NaN</td>\n",
       "      <td>NaN</td>\n",
       "      <td>NaN</td>\n",
       "      <td>NaN</td>\n",
       "      <td>NaN</td>\n",
       "      <td>2011.0</td>\n",
       "      <td>2011-01-30</td>\n",
       "      <td>8.0</td>\n",
       "      <td>6836.0</td>\n",
       "      <td>THREE SECONDS</td>\n",
       "      <td>Anders Roslund and Borge Hellstrom</td>\n",
       "      <td>True</td>\n",
       "      <td>Anders Roslund and Borge Hellstrom</td>\n",
       "      <td>Anders Roslund</td>\n",
       "      <td>Borge Hellstrom</td>\n",
       "      <td>right_only</td>\n",
       "    </tr>\n",
       "    <tr>\n",
       "      <th>4</th>\n",
       "      <td>NaN</td>\n",
       "      <td>NaN</td>\n",
       "      <td>NaN</td>\n",
       "      <td>NaN</td>\n",
       "      <td>NaN</td>\n",
       "      <td>NaN</td>\n",
       "      <td>2011.0</td>\n",
       "      <td>2011-02-06</td>\n",
       "      <td>15.0</td>\n",
       "      <td>6836.0</td>\n",
       "      <td>THREE SECONDS</td>\n",
       "      <td>Anders Roslund and Borge Hellstrom</td>\n",
       "      <td>True</td>\n",
       "      <td>Anders Roslund and Borge Hellstrom</td>\n",
       "      <td>Anders Roslund</td>\n",
       "      <td>Borge Hellstrom</td>\n",
       "      <td>right_only</td>\n",
       "    </tr>\n",
       "  </tbody>\n",
       "</table>\n",
       "</div>"
      ],
      "text/plain": [
       "   author_x  birth  death  race_eth  education  institution    year  \\\n",
       "0       NaN    NaN    NaN       NaN        NaN          NaN  1995.0   \n",
       "1       NaN    NaN    NaN       NaN        NaN          NaN  2008.0   \n",
       "2       NaN    NaN    NaN       NaN        NaN          NaN  2011.0   \n",
       "3       NaN    NaN    NaN       NaN        NaN          NaN  2011.0   \n",
       "4       NaN    NaN    NaN       NaN        NaN          NaN  2011.0   \n",
       "\n",
       "         week  rank  title_id          title  \\\n",
       "0  1995-12-31  14.0    6336.0  THE SMALL ONE   \n",
       "1  2008-03-02  15.0     974.0   CELEBUTANTES   \n",
       "2  2011-01-23   9.0    6836.0  THREE SECONDS   \n",
       "3  2011-01-30   8.0    6836.0  THREE SECONDS   \n",
       "4  2011-02-06  15.0    6836.0  THREE SECONDS   \n",
       "\n",
       "                                       author_y  problem  \\\n",
       "0         Alex Walsh. Illustrated by Jesse Clay     True   \n",
       "1  Amanda Goldberg and Ruthanna Khalighi Hopper     True   \n",
       "2            Anders Roslund and Borge Hellstrom     True   \n",
       "3            Anders Roslund and Borge Hellstrom     True   \n",
       "4            Anders Roslund and Borge Hellstrom     True   \n",
       "\n",
       "                                     author_alt         author_1  \\\n",
       "0                                    Alex Walsh       Alex Walsh   \n",
       "1  Amanda Goldberg and Ruthanna Khalighi Hopper  Amanda Goldberg   \n",
       "2            Anders Roslund and Borge Hellstrom   Anders Roslund   \n",
       "3            Anders Roslund and Borge Hellstrom   Anders Roslund   \n",
       "4            Anders Roslund and Borge Hellstrom   Anders Roslund   \n",
       "\n",
       "                   author_2      _merge  \n",
       "0                       NaN  right_only  \n",
       "1  Ruthanna Khalighi Hopper  right_only  \n",
       "2           Borge Hellstrom  right_only  \n",
       "3           Borge Hellstrom  right_only  \n",
       "4           Borge Hellstrom  right_only  "
      ]
     },
     "execution_count": 11,
     "metadata": {},
     "output_type": "execute_result"
    }
   ],
   "source": [
    "nyt_reviewed = pd.read_csv(\"nyt_reviewed_authors.csv\")\n",
    "nyt_reviewed.head()"
   ]
  },
  {
   "cell_type": "code",
   "execution_count": 17,
   "id": "01d89eb3-2f87-445b-9a19-57c17a905c15",
   "metadata": {},
   "outputs": [
    {
     "data": {
      "text/plain": [
       "array(['Alex Walsh', 'Amanda Goldberg', 'Anders Roslund',\n",
       "       'Armin L. Robinson', 'Arnaud de Borchgrave',\n",
       "       'Arthur Quiller-Couch', 'Barry Lopez', 'Benedict Freedman',\n",
       "       'Bethenny Frankel', 'Bill Adler', 'Bill Clinton', 'Brian Herbert',\n",
       "       'Caroline Kennedy', 'Charles Nordhoff', 'Charmian Clift',\n",
       "       'Clement Moore', 'Dennis Wheatley', 'Don Ferguson',\n",
       "       'Dorothy Erskine', 'Emma McLaughlin', 'General Sir John Hackett',\n",
       "       'Gideon Wyck', 'Glenn Beck with Kevin Balfe', 'Greer Hendricks',\n",
       "       'Guillermo del Toro', 'Hannah Crafts', 'Isabel Bolton',\n",
       "       'J. R. R. Tolkien', 'J.D. Gilman', 'Jamie Lee Curtis',\n",
       "       'Janet Ahlberg', 'Janet Ahlberg Evanovich', 'Jim Carrey',\n",
       "       'Joan D. Vinge', 'Joseph Auslander', 'Joyce Reardon',\n",
       "       'Judith Reeves-Stevens', 'Julia London', 'Larry Niven',\n",
       "       'Lucia Berlin', 'Marcie Walsh', 'Margaret Weis', 'Maria Shriver',\n",
       "       'Marrijane Hayes', 'Marvin Kalb', 'Mary Ann Shaffer',\n",
       "       'Mary S. Lovell', 'Michael Dorris', 'Newt Gingrich',\n",
       "       'Newt Gingrich, William R. Forstchen', 'Odell Shepard',\n",
       "       'Oliver North', 'Patti Davis', 'Richard Marcinko', 'Seamus Heaney',\n",
       "       'Terry Southern', 'Tim LaHaye', 'Walter J. Boyne',\n",
       "       'William J. Bennett', 'William J. Lederer', 'William Shatner'],\n",
       "      dtype=object)"
      ]
     },
     "execution_count": 17,
     "metadata": {},
     "output_type": "execute_result"
    }
   ],
   "source": [
    "nyt_reviewed_authors = nyt_reviewed.author_1.unique()\n",
    "nyt_reviewed_authors"
   ]
  },
  {
   "cell_type": "code",
   "execution_count": null,
   "id": "271db348-6a50-451a-8f8e-612c95bee494",
   "metadata": {},
   "outputs": [],
   "source": [
    "df_review = get_basic_demographics(nyt_reviewed_authors)\n",
    "df_review.head()"
   ]
  },
  {
   "cell_type": "code",
   "execution_count": null,
   "id": "77faffcc-d81a-42bd-84ca-da66e697e2b5",
   "metadata": {},
   "outputs": [],
   "source": [
    "df_review.head()"
   ]
  },
  {
   "cell_type": "code",
   "execution_count": null,
   "id": "73232349-cb1a-4327-a692-741efac840b7",
   "metadata": {},
   "outputs": [],
   "source": [
    "df_review.to_csv(\"nyt_reviewed_author_demographics.csv\")"
   ]
  },
  {
   "cell_type": "code",
   "execution_count": 55,
   "id": "adc1b5e2-bafd-4e3c-8478-6eeab98657e1",
   "metadata": {},
   "outputs": [],
   "source": [
    "df1_review = get_birthplace(nyt_reviewed_authors[:5])\n",
    "#os.system('say \"your program has finished\"')"
   ]
  },
  {
   "cell_type": "code",
   "execution_count": 57,
   "id": "f634632b-a608-4750-a0dc-9d2b47f5163b",
   "metadata": {},
   "outputs": [
    {
     "name": "stdout",
     "output_type": "stream",
     "text": [
      "                 author            birthplace\n",
      "0            Alex Walsh                  None\n",
      "1       Amanda Goldberg  Los Angeles, CA, USA\n",
      "2        Anders Roslund     Stockholm, Sweden\n",
      "3     Armin L. Robinson                  None\n",
      "4  Arnaud de Borchgrave     Brussels, Belgium\n"
     ]
    }
   ],
   "source": [
    "print(df1_review.head())"
   ]
  },
  {
   "cell_type": "code",
   "execution_count": 59,
   "id": "362924f8-26df-48b8-80d7-820e1794d575",
   "metadata": {},
   "outputs": [],
   "source": [
    "df1_review.to_csv(\"nyt_reviewed_author_birthplace.csv\")"
   ]
  },
  {
   "cell_type": "markdown",
   "id": "1b84f9b3-f08c-487a-87b3-5fe28f0cd46b",
   "metadata": {},
   "source": [
    "# Add gender (cause I forgot)"
   ]
  },
  {
   "cell_type": "code",
   "execution_count": 74,
   "id": "ca09c48b-d55d-428e-a501-122873379cce",
   "metadata": {},
   "outputs": [
    {
     "data": {
      "text/html": [
       "<div>\n",
       "<style scoped>\n",
       "    .dataframe tbody tr th:only-of-type {\n",
       "        vertical-align: middle;\n",
       "    }\n",
       "\n",
       "    .dataframe tbody tr th {\n",
       "        vertical-align: top;\n",
       "    }\n",
       "\n",
       "    .dataframe thead th {\n",
       "        text-align: right;\n",
       "    }\n",
       "</style>\n",
       "<table border=\"1\" class=\"dataframe\">\n",
       "  <thead>\n",
       "    <tr style=\"text-align: right;\">\n",
       "      <th></th>\n",
       "      <th>Unnamed: 0</th>\n",
       "      <th>author</th>\n",
       "      <th>birth</th>\n",
       "      <th>death</th>\n",
       "      <th>race_eth</th>\n",
       "      <th>education</th>\n",
       "      <th>institution</th>\n",
       "      <th>birthplace</th>\n",
       "      <th>temp</th>\n",
       "      <th>country</th>\n",
       "      <th>state</th>\n",
       "      <th>city</th>\n",
       "      <th>_merge</th>\n",
       "      <th>prestigious</th>\n",
       "      <th>prestige</th>\n",
       "    </tr>\n",
       "  </thead>\n",
       "  <tbody>\n",
       "    <tr>\n",
       "      <th>0</th>\n",
       "      <td>0</td>\n",
       "      <td>Warwick Deeping</td>\n",
       "      <td>1877.0</td>\n",
       "      <td>1950.0</td>\n",
       "      <td>English</td>\n",
       "      <td>NaN</td>\n",
       "      <td>NaN</td>\n",
       "      <td>Ramsgate, Kent, England</td>\n",
       "      <td>['Ramsgate', ' Kent', ' England']</td>\n",
       "      <td>England</td>\n",
       "      <td>NaN</td>\n",
       "      <td>Ramsgate</td>\n",
       "      <td>both</td>\n",
       "      <td>False</td>\n",
       "      <td>Other</td>\n",
       "    </tr>\n",
       "    <tr>\n",
       "      <th>1</th>\n",
       "      <td>1</td>\n",
       "      <td>Mazo de la Roche</td>\n",
       "      <td>1879.0</td>\n",
       "      <td>1961.0</td>\n",
       "      <td>Canadian</td>\n",
       "      <td>NaN</td>\n",
       "      <td>NaN</td>\n",
       "      <td>Newmarket, Ontario, Canada</td>\n",
       "      <td>['Newmarket', ' Ontario', ' Canada']</td>\n",
       "      <td>Canada</td>\n",
       "      <td>NaN</td>\n",
       "      <td>Newmarket</td>\n",
       "      <td>both</td>\n",
       "      <td>False</td>\n",
       "      <td>Other</td>\n",
       "    </tr>\n",
       "    <tr>\n",
       "      <th>2</th>\n",
       "      <td>2</td>\n",
       "      <td>Pearl S. Buck</td>\n",
       "      <td>1892.0</td>\n",
       "      <td>1973.0</td>\n",
       "      <td>Caucasian</td>\n",
       "      <td>Graduate</td>\n",
       "      <td>Cornell University</td>\n",
       "      <td>Hillsboro, WV, USA</td>\n",
       "      <td>['Hillsboro', ' WV', ' USA']</td>\n",
       "      <td>USA</td>\n",
       "      <td>WV</td>\n",
       "      <td>Hillsboro</td>\n",
       "      <td>both</td>\n",
       "      <td>True</td>\n",
       "      <td>Top School</td>\n",
       "    </tr>\n",
       "    <tr>\n",
       "      <th>3</th>\n",
       "      <td>3</td>\n",
       "      <td>Willa Cather</td>\n",
       "      <td>1873.0</td>\n",
       "      <td>1947.0</td>\n",
       "      <td>American</td>\n",
       "      <td>Undergrad</td>\n",
       "      <td>University of Nebraska-Lincoln</td>\n",
       "      <td>Back Creek Valley, Virginia, USA</td>\n",
       "      <td>['Back Creek Valley', ' Virginia', ' USA']</td>\n",
       "      <td>USA</td>\n",
       "      <td>VA</td>\n",
       "      <td>Back Creek Valley</td>\n",
       "      <td>both</td>\n",
       "      <td>False</td>\n",
       "      <td>Other</td>\n",
       "    </tr>\n",
       "    <tr>\n",
       "      <th>4</th>\n",
       "      <td>4</td>\n",
       "      <td>Rafael Sabatini</td>\n",
       "      <td>1875.0</td>\n",
       "      <td>1950.0</td>\n",
       "      <td>Italian</td>\n",
       "      <td>NaN</td>\n",
       "      <td>NaN</td>\n",
       "      <td>Fermo, Marche, Italy</td>\n",
       "      <td>['Fermo', ' Marche', ' Italy']</td>\n",
       "      <td>Italy</td>\n",
       "      <td>NaN</td>\n",
       "      <td>Fermo</td>\n",
       "      <td>both</td>\n",
       "      <td>False</td>\n",
       "      <td>Other</td>\n",
       "    </tr>\n",
       "  </tbody>\n",
       "</table>\n",
       "</div>"
      ],
      "text/plain": [
       "   Unnamed: 0            author   birth   death   race_eth   education  \\\n",
       "0           0   Warwick Deeping  1877.0  1950.0    English         NaN   \n",
       "1           1  Mazo de la Roche  1879.0  1961.0   Canadian         NaN   \n",
       "2           2     Pearl S. Buck  1892.0  1973.0  Caucasian    Graduate   \n",
       "3           3      Willa Cather  1873.0  1947.0   American  Undergrad    \n",
       "4           4   Rafael Sabatini  1875.0  1950.0    Italian         NaN   \n",
       "\n",
       "                      institution                        birthplace  \\\n",
       "0                             NaN           Ramsgate, Kent, England   \n",
       "1                             NaN        Newmarket, Ontario, Canada   \n",
       "2              Cornell University                Hillsboro, WV, USA   \n",
       "3  University of Nebraska-Lincoln  Back Creek Valley, Virginia, USA   \n",
       "4                             NaN              Fermo, Marche, Italy   \n",
       "\n",
       "                                         temp  country state  \\\n",
       "0           ['Ramsgate', ' Kent', ' England']  England   NaN   \n",
       "1        ['Newmarket', ' Ontario', ' Canada']   Canada   NaN   \n",
       "2                ['Hillsboro', ' WV', ' USA']      USA    WV   \n",
       "3  ['Back Creek Valley', ' Virginia', ' USA']      USA    VA   \n",
       "4              ['Fermo', ' Marche', ' Italy']    Italy   NaN   \n",
       "\n",
       "                city _merge  prestigious    prestige  \n",
       "0           Ramsgate   both        False       Other  \n",
       "1          Newmarket   both        False       Other  \n",
       "2          Hillsboro   both         True  Top School  \n",
       "3  Back Creek Valley   both        False       Other  \n",
       "4              Fermo   both        False       Other  "
      ]
     },
     "execution_count": 74,
     "metadata": {},
     "output_type": "execute_result"
    }
   ],
   "source": [
    "nyt_demo_authors = pd.read_csv(\"authors_demographics_birthplace_NO_gender.csv\")\n",
    "nyt_demo_authors.head()"
   ]
  },
  {
   "cell_type": "code",
   "execution_count": 76,
   "id": "91069daf-68ca-4405-b7c4-146560f3be71",
   "metadata": {},
   "outputs": [
    {
     "data": {
      "text/plain": [
       "array(['Warwick Deeping', 'Mazo de la Roche', 'Pearl S. Buck',\n",
       "       'Willa Cather', 'Rafael Sabatini', 'John Galsworthy',\n",
       "       'A. A. Milne', 'Edna Ferber', 'Clemance Dane', 'Oliver LaFarge'],\n",
       "      dtype=object)"
      ]
     },
     "execution_count": 76,
     "metadata": {},
     "output_type": "execute_result"
    }
   ],
   "source": [
    "my_author_list2 = nyt_demo_authors.author.unique()\n",
    "my_author_list2[:10]"
   ]
  },
  {
   "cell_type": "code",
   "execution_count": 82,
   "id": "995139c2-c0d3-42f6-9789-f71cdd9d18d2",
   "metadata": {},
   "outputs": [],
   "source": [
    "def get_gender(my_author_list):\n",
    "    df = pd.DataFrame(columns=['gender'], index= my_author_list)\n",
    "    \n",
    "    for author in my_author_list:\n",
    "        completion = client.chat.completions.create(\n",
    "            model=\"gpt-4o-mini\",\n",
    "            messages=[\n",
    "                {\"role\": \"system\", \"content\": \"\"\"You are a literary historian. \n",
    "                You reply with only the requested information, not a complete sentence, and no headers.\n",
    "                For example, if the author is Pearl S. Buck, you would return: female\"\"\"},\n",
    "                {\n",
    "                    \"role\": \"user\",\n",
    "                    \"content\": \"\"\"What is the gender of \"\"\"+author\n",
    "                }\n",
    "            ]\n",
    "        )\n",
    "        my_response = completion.choices[0].message.content\n",
    "        #print(my_response)\n",
    "        df.loc[author] = pd.Series({'gender':my_response})\n",
    "\n",
    "    df = df.reset_index()\n",
    "    df.rename(columns = {\"index\":\"author\"}, inplace = True)    \n",
    "    return df\n",
    "\n"
   ]
  },
  {
   "cell_type": "code",
   "execution_count": 84,
   "id": "977ecfa4-5c55-4eaa-8a4e-ecc67e79108d",
   "metadata": {},
   "outputs": [
    {
     "data": {
      "text/html": [
       "<div>\n",
       "<style scoped>\n",
       "    .dataframe tbody tr th:only-of-type {\n",
       "        vertical-align: middle;\n",
       "    }\n",
       "\n",
       "    .dataframe tbody tr th {\n",
       "        vertical-align: top;\n",
       "    }\n",
       "\n",
       "    .dataframe thead th {\n",
       "        text-align: right;\n",
       "    }\n",
       "</style>\n",
       "<table border=\"1\" class=\"dataframe\">\n",
       "  <thead>\n",
       "    <tr style=\"text-align: right;\">\n",
       "      <th></th>\n",
       "      <th>author</th>\n",
       "      <th>gender</th>\n",
       "    </tr>\n",
       "  </thead>\n",
       "  <tbody>\n",
       "    <tr>\n",
       "      <th>0</th>\n",
       "      <td>Warwick Deeping</td>\n",
       "      <td>male</td>\n",
       "    </tr>\n",
       "    <tr>\n",
       "      <th>1</th>\n",
       "      <td>Mazo de la Roche</td>\n",
       "      <td>female</td>\n",
       "    </tr>\n",
       "    <tr>\n",
       "      <th>2</th>\n",
       "      <td>Pearl S. Buck</td>\n",
       "      <td>female</td>\n",
       "    </tr>\n",
       "    <tr>\n",
       "      <th>3</th>\n",
       "      <td>Willa Cather</td>\n",
       "      <td>female</td>\n",
       "    </tr>\n",
       "    <tr>\n",
       "      <th>4</th>\n",
       "      <td>Rafael Sabatini</td>\n",
       "      <td>male</td>\n",
       "    </tr>\n",
       "  </tbody>\n",
       "</table>\n",
       "</div>"
      ],
      "text/plain": [
       "             author  gender\n",
       "0   Warwick Deeping    male\n",
       "1  Mazo de la Roche  female\n",
       "2     Pearl S. Buck  female\n",
       "3      Willa Cather  female\n",
       "4   Rafael Sabatini    male"
      ]
     },
     "execution_count": 84,
     "metadata": {},
     "output_type": "execute_result"
    }
   ],
   "source": [
    "df2 = get_gender(my_author_list2)\n",
    "df2.head()"
   ]
  },
  {
   "cell_type": "code",
   "execution_count": 88,
   "id": "820f2ddf-f51e-4bf1-afa3-8b7dd20a09d0",
   "metadata": {},
   "outputs": [
    {
     "data": {
      "text/plain": [
       "array(['male', 'female', 'unknown', 'transgender non-binary'],\n",
       "      dtype=object)"
      ]
     },
     "execution_count": 88,
     "metadata": {},
     "output_type": "execute_result"
    }
   ],
   "source": [
    "df2.gender.unique()"
   ]
  },
  {
   "cell_type": "code",
   "execution_count": 86,
   "id": "500861e3-f270-49ea-a8cb-b88c29d46db9",
   "metadata": {},
   "outputs": [],
   "source": [
    "df2.to_csv(\"authors_gender.csv\")"
   ]
  },
  {
   "cell_type": "code",
   "execution_count": null,
   "id": "bd8759e1-3fb4-455f-b76c-25d0acfc7341",
   "metadata": {},
   "outputs": [],
   "source": []
  }
 ],
 "metadata": {
  "kernelspec": {
   "display_name": "Python [conda env:base] *",
   "language": "python",
   "name": "conda-base-py"
  },
  "language_info": {
   "codemirror_mode": {
    "name": "ipython",
    "version": 3
   },
   "file_extension": ".py",
   "mimetype": "text/x-python",
   "name": "python",
   "nbconvert_exporter": "python",
   "pygments_lexer": "ipython3",
   "version": "3.12.7"
  }
 },
 "nbformat": 4,
 "nbformat_minor": 5
}
