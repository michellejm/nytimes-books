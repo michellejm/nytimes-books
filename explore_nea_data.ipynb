{
 "cells": [
  {
   "cell_type": "code",
   "execution_count": 1,
   "id": "aa5e843e-dc4c-471f-a8b2-e36953fab831",
   "metadata": {
    "ExecuteTime": {
     "end_time": "2025-01-22T20:31:12.494391Z",
     "start_time": "2025-01-22T20:31:11.859596Z"
    }
   },
   "outputs": [],
   "source": [
    "import pandas as pd\n",
    "import numpy as np\n",
    "import matplotlib.pyplot as plt\n",
    "import openai"
   ]
  },
  {
   "cell_type": "code",
   "execution_count": null,
   "id": "e05155ba-424f-4d8c-b8b6-99eb1972b57c",
   "metadata": {
    "jupyter": {
     "is_executing": true
    }
   },
   "outputs": [],
   "source": [
    "df = pd.read_csv(\"Post45_NEAData_Final.csv\")"
   ]
  },
  {
   "cell_type": "code",
   "execution_count": null,
   "id": "a58a0867-49d8-44c8-b5ca-77eed76dbf8b",
   "metadata": {
    "jupyter": {
     "is_executing": true
    }
   },
   "outputs": [],
   "source": [
    "df.head()"
   ]
  },
  {
   "cell_type": "code",
   "execution_count": null,
   "id": "e36f3374-8440-45d5-bfd3-b5ae82181e35",
   "metadata": {
    "jupyter": {
     "is_executing": true
    }
   },
   "outputs": [],
   "source": [
    "# how many don't have gender listed?\n",
    "df[df.gender == \"unknown\"]"
   ]
  },
  {
   "cell_type": "code",
   "execution_count": null,
   "id": "9b330ab1-02cd-40cc-b930-cc0347f222a1",
   "metadata": {
    "jupyter": {
     "is_executing": true
    }
   },
   "outputs": [],
   "source": [
    "# how many don't have a race or ethnicity\n",
    "print(\"No race\", len(df[df.race_ethnicity == \"uniden\"]))\n",
    "print(\"Race\", len(df[df.race_ethnicity != \"uniden\"]))"
   ]
  },
  {
   "cell_type": "code",
   "execution_count": null,
   "id": "997a45ca-818f-4419-bfb7-0dbd969570e2",
   "metadata": {
    "jupyter": {
     "is_executing": true
    }
   },
   "outputs": [],
   "source": [
    "df.race_ethnicity.value_counts()"
   ]
  },
  {
   "cell_type": "code",
   "execution_count": null,
   "id": "184c7fdf-88cb-4307-8888-1e97468c5b53",
   "metadata": {
    "jupyter": {
     "is_executing": true
    }
   },
   "outputs": [],
   "source": [
    "df.race_ethnicity = df.race_ethnicity.replace(\"uniden / \",\"\", regex = True)"
   ]
  },
  {
   "cell_type": "code",
   "execution_count": null,
   "id": "b859b729-1d83-409b-b3be-785777619c3b",
   "metadata": {
    "jupyter": {
     "is_executing": true
    }
   },
   "outputs": [],
   "source": [
    "r_e = df.race_ethnicity.value_counts()\n",
    "r_e"
   ]
  },
  {
   "cell_type": "code",
   "execution_count": null,
   "id": "b530fbbd-228f-4dbd-983a-1a8ffb8a8e1f",
   "metadata": {
    "ExecuteTime": {
     "end_time": "2025-01-22T16:58:14.567356Z",
     "start_time": "2025-01-22T16:58:14.424813Z"
    }
   },
   "outputs": [],
   "source": [
    "race = r_e[1:10]\n",
    "race.plot.bar(title = \"Race of NEA Creative Writing Recipients\")"
   ]
  },
  {
   "cell_type": "code",
   "execution_count": null,
   "id": "e0c832b4-9560-4be9-8c1c-4bae5bf45fc9",
   "metadata": {
    "ExecuteTime": {
     "end_time": "2025-01-22T16:58:15.123280Z",
     "start_time": "2025-01-22T16:58:15.119691Z"
    }
   },
   "outputs": [],
   "source": [
    "ba = df.ba.value_counts()[:11]\n",
    "ba"
   ]
  },
  {
   "cell_type": "code",
   "execution_count": null,
   "id": "4eed1e89-8faf-4237-8263-f0ed2d92c51e",
   "metadata": {
    "ExecuteTime": {
     "end_time": "2025-01-22T16:58:17.315210Z",
     "start_time": "2025-01-22T16:58:17.303351Z"
    }
   },
   "outputs": [],
   "source": [
    "print(\"ba listed \",len(df) - df.ba.isna().sum())\n",
    "print(\"ba listed \", ((len(df) - df.ba.isna().sum())/len(df))*100,\"%\")"
   ]
  },
  {
   "cell_type": "code",
   "execution_count": null,
   "id": "901ad4a5-f1c8-4a71-81a6-207e94db8f60",
   "metadata": {
    "ExecuteTime": {
     "end_time": "2025-01-22T16:58:18.705377Z",
     "start_time": "2025-01-22T16:58:18.645716Z"
    }
   },
   "outputs": [],
   "source": [
    "ba.plot.bar()"
   ]
  },
  {
   "cell_type": "code",
   "execution_count": null,
   "id": "78dc9118-c045-401c-a2f5-712a05c69e56",
   "metadata": {
    "ExecuteTime": {
     "end_time": "2025-01-22T16:58:19.887673Z",
     "start_time": "2025-01-22T16:58:19.882836Z"
    }
   },
   "outputs": [],
   "source": [
    "ivies = [\"Brown University\", \"Columbia University\", \"Cornell University\", \"Dartmouth College\", \n",
    "\"Harvard University\", \"University of Pennsylvania\", \"Princeton University\", \"Yale University\"]\n",
    "\n",
    "df[\"Ivy\"] = df.ba.isin(ivies)\n",
    "df.Ivy.value_counts()"
   ]
  },
  {
   "cell_type": "code",
   "execution_count": null,
   "id": "eb6a18e6-9f7f-466e-8370-09201da6d254",
   "metadata": {
    "ExecuteTime": {
     "end_time": "2025-01-22T16:58:21.274983Z",
     "start_time": "2025-01-22T16:58:21.247289Z"
    }
   },
   "outputs": [],
   "source": [
    "ivies = [\"Brown University\", \"Columbia University\", \"Cornell University\", \"Dartmouth College\", \n",
    "\"Harvard University\", \"University of Pennsylvania\", \"Princeton University\", \"Yale University\"]\n",
    "tier_1_schools = [\n",
    "    \"Stanford University\",\n",
    "    \"Massachusetts Institute of Technology (MIT)\",\n",
    "    \"California Institute of Technology (Caltech)\",\n",
    "    \"University of Chicago\",\n",
    "    \"Duke University\",\n",
    "    \"Northwestern University\",\n",
    "    \"University of California, Berkeley (UC Berkeley)\",\n",
    "    \"University of California, Los Angeles (UCLA)\",\n",
    "    \"University of Michigan, Ann Arbor\",\n",
    "    \"University of Texas at Austin\",\n",
    "    \"Carnegie Mellon University\",\n",
    "    \"University of Southern California (USC)\",\n",
    "    \"Johns Hopkins University\",\n",
    "    \"Georgia Institute of Technology (Georgia Tech)\",\n",
    "    \"University of North Carolina at Chapel Hill\"\n",
    "]\n",
    "\n",
    "tier_2_schools = [\n",
    "    \"University of Washington\",\n",
    "    \"University of Wisconsin-Madison\",\n",
    "    \"University of Illinois Urbana-Champaign\",\n",
    "    \"University of Florida\",\n",
    "    \"Pennsylvania State University (Penn State)\",\n",
    "    \"Ohio State University\",\n",
    "    \"Purdue University\",\n",
    "    \"University of Maryland, College Park\",\n",
    "    \"Texas A&M University\",\n",
    "    \"University of Minnesota, Twin Cities\",\n",
    "    \"University of Virginia\",\n",
    "    \"University of California, San Diego (UCSD)\",\n",
    "    \"University of California, Davis (UC Davis)\",\n",
    "    \"Boston University\",\n",
    "    \"University of Rochester\",\n",
    "    \"Michigan State University\",\n",
    "    \"Indiana University Bloomington\",\n",
    "    \"University of Colorado Boulder\",\n",
    "    \"University of Arizona\",\n",
    "    \"University of Utah\"\n",
    "]\n",
    "\n",
    "top_schools = ivies + tier_1_schools\n",
    "\n",
    "# Define a function to fill the new column based on string matching\n",
    "def fill_new_column(row):\n",
    "    if row['ba'] in ivies:\n",
    "        return \"Ivy League\"\n",
    "    elif row['ba'] in tier_1_schools:\n",
    "        return \"Tier 1\"\n",
    "    elif row['ba'] in tier_2_schools:\n",
    "        return \"Tier 2\"\n",
    "    else:\n",
    "        return \"not_found\"\n",
    "\n",
    "# Apply the function to create a new column\n",
    "df['Tier'] = df.apply(fill_new_column, axis=1)\n",
    "\n",
    "df.Tier.value_counts()"
   ]
  },
  {
   "cell_type": "code",
   "execution_count": null,
   "id": "e5048980-5ad2-496b-841a-1ee81c8aade7",
   "metadata": {
    "ExecuteTime": {
     "end_time": "2025-01-22T16:58:22.990215Z",
     "start_time": "2025-01-22T16:58:22.971854Z"
    }
   },
   "outputs": [],
   "source": [
    "top_schools = ivies + tier_1_schools\n",
    "\n",
    "# Define a function to fill the new column based on string matching\n",
    "def fill_new_column_top(row):\n",
    "    if row['ba'] in top_schools:\n",
    "        return \"Top School\"\n",
    "    else:\n",
    "        return \"Other\"\n",
    "        \n",
    "# Apply the function to create a new column\n",
    "df['Top_schools'] = df.apply(fill_new_column_top, axis=1)\n",
    "\n",
    "top_schools = df.Top_schools.value_counts(normalize=True)\n",
    "top_schools"
   ]
  },
  {
   "cell_type": "code",
   "execution_count": null,
   "id": "a8da5c51-6515-4c51-a327-7f88606ce4f9",
   "metadata": {
    "ExecuteTime": {
     "end_time": "2025-01-22T16:58:24.066231Z",
     "start_time": "2025-01-22T16:58:24.033769Z"
    }
   },
   "outputs": [],
   "source": [
    "top_schools.plot.pie()"
   ]
  },
  {
   "cell_type": "markdown",
   "id": "960580c7-2581-4686-9afc-9606e21b8b91",
   "metadata": {},
   "source": [
    "# NYTimes"
   ]
  },
  {
   "cell_type": "code",
   "execution_count": 2,
   "id": "cc314b6d-0079-4667-acff-3ec347a5345b",
   "metadata": {
    "ExecuteTime": {
     "end_time": "2025-01-22T20:26:44.821840Z",
     "start_time": "2025-01-22T20:26:44.776537Z"
    }
   },
   "outputs": [
    {
     "data": {
      "text/html": [
       "<div>\n",
       "<style scoped>\n",
       "    .dataframe tbody tr th:only-of-type {\n",
       "        vertical-align: middle;\n",
       "    }\n",
       "\n",
       "    .dataframe tbody tr th {\n",
       "        vertical-align: top;\n",
       "    }\n",
       "\n",
       "    .dataframe thead th {\n",
       "        text-align: right;\n",
       "    }\n",
       "</style>\n",
       "<table border=\"1\" class=\"dataframe\">\n",
       "  <thead>\n",
       "    <tr style=\"text-align: right;\">\n",
       "      <th></th>\n",
       "      <th>year</th>\n",
       "      <th>week</th>\n",
       "      <th>rank</th>\n",
       "      <th>title_id</th>\n",
       "      <th>title</th>\n",
       "      <th>author</th>\n",
       "    </tr>\n",
       "  </thead>\n",
       "  <tbody>\n",
       "    <tr>\n",
       "      <th>0</th>\n",
       "      <td>1931</td>\n",
       "      <td>1931-10-12</td>\n",
       "      <td>1</td>\n",
       "      <td>6477</td>\n",
       "      <td>THE TEN COMMANDMENTS</td>\n",
       "      <td>Warwick Deeping</td>\n",
       "    </tr>\n",
       "    <tr>\n",
       "      <th>1</th>\n",
       "      <td>1931</td>\n",
       "      <td>1931-10-12</td>\n",
       "      <td>2</td>\n",
       "      <td>1808</td>\n",
       "      <td>FINCHE'S FORTUNE</td>\n",
       "      <td>Mazo de la Roche</td>\n",
       "    </tr>\n",
       "    <tr>\n",
       "      <th>2</th>\n",
       "      <td>1931</td>\n",
       "      <td>1931-10-12</td>\n",
       "      <td>3</td>\n",
       "      <td>5304</td>\n",
       "      <td>THE GOOD EARTH</td>\n",
       "      <td>Pearl S. Buck</td>\n",
       "    </tr>\n",
       "    <tr>\n",
       "      <th>3</th>\n",
       "      <td>1931</td>\n",
       "      <td>1931-10-12</td>\n",
       "      <td>4</td>\n",
       "      <td>4038</td>\n",
       "      <td>SHADOWS ON THE ROCK</td>\n",
       "      <td>Willa Cather</td>\n",
       "    </tr>\n",
       "    <tr>\n",
       "      <th>4</th>\n",
       "      <td>1931</td>\n",
       "      <td>1931-10-12</td>\n",
       "      <td>5</td>\n",
       "      <td>3946</td>\n",
       "      <td>SCARMOUCHE THE KING MAKER</td>\n",
       "      <td>Rafael Sabatini</td>\n",
       "    </tr>\n",
       "  </tbody>\n",
       "</table>\n",
       "</div>"
      ],
      "text/plain": [
       "   year        week  rank  title_id                      title  \\\n",
       "0  1931  1931-10-12     1      6477       THE TEN COMMANDMENTS   \n",
       "1  1931  1931-10-12     2      1808           FINCHE'S FORTUNE   \n",
       "2  1931  1931-10-12     3      5304             THE GOOD EARTH   \n",
       "3  1931  1931-10-12     4      4038        SHADOWS ON THE ROCK   \n",
       "4  1931  1931-10-12     5      3946  SCARMOUCHE THE KING MAKER   \n",
       "\n",
       "             author  \n",
       "0   Warwick Deeping  \n",
       "1  Mazo de la Roche  \n",
       "2     Pearl S. Buck  \n",
       "3      Willa Cather  \n",
       "4   Rafael Sabatini  "
      ]
     },
     "execution_count": 2,
     "metadata": {},
     "output_type": "execute_result"
    }
   ],
   "source": [
    "nyt = pd.read_csv(\"nyt_full.tsv\", sep = '\\t')\n",
    "nyt.head()"
   ]
  },
  {
   "cell_type": "code",
   "execution_count": 3,
   "id": "a620bba7-b085-4ac7-99a8-be29f9a96527",
   "metadata": {
    "ExecuteTime": {
     "end_time": "2025-01-22T20:26:46.920178Z",
     "start_time": "2025-01-22T20:26:46.914508Z"
    }
   },
   "outputs": [
    {
     "data": {
      "text/plain": [
       "2210"
      ]
     },
     "execution_count": 3,
     "metadata": {},
     "output_type": "execute_result"
    }
   ],
   "source": [
    "nyt.author.nunique()"
   ]
  },
  {
   "cell_type": "code",
   "execution_count": 4,
   "id": "a026e4fc-0c2a-4474-aaf3-a9d2315977bb",
   "metadata": {
    "ExecuteTime": {
     "end_time": "2025-01-22T20:26:47.790651Z",
     "start_time": "2025-01-22T20:26:47.787777Z"
    }
   },
   "outputs": [
    {
     "name": "stdout",
     "output_type": "stream",
     "text": [
      "0                        Warwick Deeping\n",
      "1                       Mazo de la Roche\n",
      "2                          Pearl S. Buck\n",
      "3                           Willa Cather\n",
      "4                        Rafael Sabatini\n",
      "                      ...               \n",
      "60381                             Halsey\n",
      "60382                       Brit Bennett\n",
      "60383                        Delia Owens\n",
      "60384                    Fredrik Backman\n",
      "60385    Clive Cussler and Boyd Morrison\n",
      "Name: author, Length: 60386, dtype: object\n"
     ]
    }
   ],
   "source": [
    "print(nyt.author)"
   ]
  },
  {
   "cell_type": "code",
   "execution_count": 5,
   "id": "366650bf-bb5e-41b9-b25e-6dea4a773b59",
   "metadata": {
    "ExecuteTime": {
     "end_time": "2025-01-22T20:26:48.528221Z",
     "start_time": "2025-01-22T20:26:48.519257Z"
    }
   },
   "outputs": [],
   "source": [
    "nyt_authors = nyt.author.unique().tolist()\n",
    "\n",
    "# Because GPT can only do so many at once\n",
    "import itertools as it\n",
    "\n",
    "cnt = 0\n",
    "auth50 = list(it.batched(nyt_authors, 50))\n",
    "for item in auth50:\n",
    "    cnt+=1\n",
    "    c = str(cnt)\n",
    "    with open(\"nytimes_auth/authors\"+c+\".txt\", \"w\") as output:\n",
    "        output.write(str(item))\n"
   ]
  },
  {
   "cell_type": "markdown",
   "id": "8ed1d9ce-e839-4f0f-82bb-0da8da5ff232",
   "metadata": {},
   "source": [
    "# Use GPT to gather data about the authors"
   ]
  },
  {
   "cell_type": "code",
   "execution_count": 6,
   "id": "6bf7fd10-3fe6-45c6-bbd9-337b99f90eb4",
   "metadata": {
    "ExecuteTime": {
     "end_time": "2025-01-22T20:28:49.854810Z",
     "start_time": "2025-01-22T20:28:49.851509Z"
    }
   },
   "outputs": [
    {
     "name": "stdout",
     "output_type": "stream",
     "text": [
      "['Warwick Deeping', 'Mazo de la Roche', 'Pearl S. Buck', 'Willa Cather', 'Rafael Sabatini']\n"
     ]
    }
   ],
   "source": [
    "nyt_authors_short = nyt_authors[:5]\n",
    "print(nyt_authors_short)"
   ]
  },
  {
   "cell_type": "code",
   "execution_count": 12,
   "id": "a34dccb179a7919b",
   "metadata": {
    "ExecuteTime": {
     "end_time": "2025-01-22T20:29:30.846706Z",
     "start_time": "2025-01-22T20:29:30.832694Z"
    }
   },
   "outputs": [
    {
     "name": "stdout",
     "output_type": "stream",
     "text": [
      "['1877', '1879', '1892', '1873', '1875']\n"
     ]
    }
   ],
   "source": [
    "myapikey = open('my_gpt_apikey.txt').readline().rstrip()\n",
    "\n",
    "client = openai.OpenAI(api_key = myapikey)\n",
    "\n",
    "output = []\n",
    "for author in nyt_authors_short:\n",
    "    completion = client.chat.completions.create(\n",
    "        model=\"gpt-4o-mini\",\n",
    "        messages=[\n",
    "            {\"role\": \"system\", \"content\": \"You are a literary historian. You reply with only the year, not a complete sentence\"},\n",
    "            {\n",
    "                \"role\": \"user\",\n",
    "                \"content\": \"What is the birth year of \"+author\n",
    "            }\n",
    "        ]\n",
    "    )\n",
    "    my_response = completion.choices[0].message.content\n",
    "    output.append(my_response)\n",
    "\n",
    "\n",
    "\n",
    "print(output)"
   ]
  },
  {
   "cell_type": "code",
   "execution_count": null,
   "id": "d2cfa9fb-1081-4514-abf2-2122dd490007",
   "metadata": {
    "ExecuteTime": {
     "end_time": "2025-01-22T18:12:21.595971Z",
     "start_time": "2025-01-22T18:12:21.592777Z"
    }
   },
   "outputs": [],
   "source": []
  },
  {
   "cell_type": "code",
   "execution_count": null,
   "id": "6190b641-0e44-4983-b08a-00de9ee2192d",
   "metadata": {},
   "outputs": [],
   "source": []
  },
  {
   "cell_type": "code",
   "execution_count": null,
   "id": "c6a05963-a045-4425-a648-1c0aaacdb9c4",
   "metadata": {},
   "outputs": [],
   "source": []
  },
  {
   "cell_type": "code",
   "execution_count": null,
   "id": "bf25bbfe-f30d-4d98-82ed-7769d7749ff5",
   "metadata": {},
   "outputs": [],
   "source": [
    "with open(\"../nytimes/authors.txt\", \"w\") as output:\n",
    "    output.write(str(nyt_authors))"
   ]
  },
  {
   "cell_type": "code",
   "execution_count": null,
   "id": "0de5883d-0349-4bdd-b190-7106ed7c7deb",
   "metadata": {},
   "outputs": [],
   "source": [
    "nyt.title.nunique()"
   ]
  },
  {
   "cell_type": "code",
   "execution_count": null,
   "id": "198b13bd-4a64-462a-955e-8977e4f729e3",
   "metadata": {},
   "outputs": [],
   "source": [
    "author_demo = pd.read_csv(\"../nytimes/authors_demographics.csv\")"
   ]
  },
  {
   "cell_type": "code",
   "execution_count": null,
   "id": "fe8bf169-dc76-42cf-8b1d-c616252d1d13",
   "metadata": {},
   "outputs": [],
   "source": [
    "author_demo.head()"
   ]
  },
  {
   "cell_type": "code",
   "execution_count": null,
   "id": "0c7bc48e-2eaf-444f-9210-f394a9ae47b9",
   "metadata": {},
   "outputs": [],
   "source": [
    "author_demo = author_demo.replace('NaN', pd.NA)"
   ]
  },
  {
   "cell_type": "code",
   "execution_count": null,
   "id": "fd0dcfe0-0d8b-4ca9-b6e7-c281cada22c3",
   "metadata": {},
   "outputs": [],
   "source": [
    "author_demo.head()"
   ]
  },
  {
   "cell_type": "code",
   "execution_count": null,
   "id": "271db348-6a50-451a-8f8e-612c95bee494",
   "metadata": {},
   "outputs": [],
   "source": []
  }
 ],
 "metadata": {
  "kernelspec": {
   "display_name": "Python 3 (ipykernel)",
   "language": "python",
   "name": "python3"
  },
  "language_info": {
   "codemirror_mode": {
    "name": "ipython",
    "version": 3
   },
   "file_extension": ".py",
   "mimetype": "text/x-python",
   "name": "python",
   "nbconvert_exporter": "python",
   "pygments_lexer": "ipython3",
   "version": "3.12.8"
  }
 },
 "nbformat": 4,
 "nbformat_minor": 5
}
