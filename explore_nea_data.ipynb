{
 "cells": [
  {
   "cell_type": "code",
   "id": "aa5e843e-dc4c-471f-a8b2-e36953fab831",
   "metadata": {
    "ExecuteTime": {
     "end_time": "2025-01-22T16:56:37.747084Z",
     "start_time": "2025-01-22T16:56:35.733245Z"
    }
   },
   "source": [
    "import pandas as pd\n",
    "import numpy as np\n",
    "import matplotlib.pyplot as plt\n",
    "from jupyterlab_server.test_utils import maybe_patch_ioloop"
   ],
   "outputs": [],
   "execution_count": 3
  },
  {
   "cell_type": "code",
   "id": "924e849b-ff55-44d0-b8af-7ac4ac3254b9",
   "metadata": {
    "ExecuteTime": {
     "end_time": "2025-01-22T17:58:45.708079Z",
     "start_time": "2025-01-22T17:58:45.704858Z"
    }
   },
   "source": "",
   "outputs": [],
   "execution_count": 41
  },
  {
   "cell_type": "code",
   "id": "e05155ba-424f-4d8c-b8b6-99eb1972b57c",
   "metadata": {
    "ExecuteTime": {
     "end_time": "2025-01-22T16:58:04.727511Z",
     "start_time": "2025-01-22T16:58:04.705753Z"
    }
   },
   "source": [
    "df = pd.read_csv(\"Post45_NEAData_Final.csv\")"
   ],
   "outputs": [],
   "execution_count": 7
  },
  {
   "cell_type": "code",
   "id": "a58a0867-49d8-44c8-b5ca-77eed76dbf8b",
   "metadata": {
    "ExecuteTime": {
     "end_time": "2025-01-22T16:58:06.043392Z",
     "start_time": "2025-01-22T16:58:06.031119Z"
    }
   },
   "source": [
    "df.head()"
   ],
   "outputs": [
    {
     "data": {
      "text/plain": [
       "   nea_person_id full_name_lastfirst full_name_firstlast given_name_middle  \\\n",
       "0             19       Adams, Leonie        Leonie Adams            Leonie   \n",
       "1            177         Belitt, Ben          Ben Belitt               Ben   \n",
       "2            235        Bird, Laurel         Laurel Bird            Laurel   \n",
       "3            282    Bourjaily, Vance     Vance Bourjaily             Vance   \n",
       "4            303   Brasfield, Samuel    Samuel Brasfield            Samuel   \n",
       "\n",
       "  family_name  nea_grant_year other_nea_grant country us_state    hometown  \\\n",
       "0       Adams            1966             NaN     USA       NY    New York   \n",
       "1      Belitt            1966             NaN     USA       VT  Bennington   \n",
       "2        Bird            1966             NaN     USA       TN   Knoxville   \n",
       "3   Bourjaily            1966            1979     USA       IA   Iowa City   \n",
       "4   Brasfield            1966             NaN     USA       AL   Demopolis   \n",
       "\n",
       "   ...  gender race_ethnicity                      ba  ba2  \\\n",
       "0  ...  female         uniden         Barnard College  NaN   \n",
       "1  ...    male         uniden  University of Virginia  NaN   \n",
       "2  ...  female         uniden                     NaN  NaN   \n",
       "3  ...    male         uniden         Bowdoin College  NaN   \n",
       "4  ...    male         uniden                     NaN  NaN   \n",
       "\n",
       "                       ma  ma2  phd  mfa mfa2 post45_hathi_entry  \n",
       "0                     NaN  NaN  NaN  NaN  NaN                NaN  \n",
       "1  University of Virginia  NaN  NaN  NaN  NaN                NaN  \n",
       "2                     NaN  NaN  NaN  NaN  NaN                NaN  \n",
       "3                     NaN  NaN  NaN  NaN  NaN                NaN  \n",
       "4                     NaN  NaN  NaN  NaN  NaN                NaN  \n",
       "\n",
       "[5 rows x 21 columns]"
      ],
      "text/html": [
       "<div>\n",
       "<style scoped>\n",
       "    .dataframe tbody tr th:only-of-type {\n",
       "        vertical-align: middle;\n",
       "    }\n",
       "\n",
       "    .dataframe tbody tr th {\n",
       "        vertical-align: top;\n",
       "    }\n",
       "\n",
       "    .dataframe thead th {\n",
       "        text-align: right;\n",
       "    }\n",
       "</style>\n",
       "<table border=\"1\" class=\"dataframe\">\n",
       "  <thead>\n",
       "    <tr style=\"text-align: right;\">\n",
       "      <th></th>\n",
       "      <th>nea_person_id</th>\n",
       "      <th>full_name_lastfirst</th>\n",
       "      <th>full_name_firstlast</th>\n",
       "      <th>given_name_middle</th>\n",
       "      <th>family_name</th>\n",
       "      <th>nea_grant_year</th>\n",
       "      <th>other_nea_grant</th>\n",
       "      <th>country</th>\n",
       "      <th>us_state</th>\n",
       "      <th>hometown</th>\n",
       "      <th>...</th>\n",
       "      <th>gender</th>\n",
       "      <th>race_ethnicity</th>\n",
       "      <th>ba</th>\n",
       "      <th>ba2</th>\n",
       "      <th>ma</th>\n",
       "      <th>ma2</th>\n",
       "      <th>phd</th>\n",
       "      <th>mfa</th>\n",
       "      <th>mfa2</th>\n",
       "      <th>post45_hathi_entry</th>\n",
       "    </tr>\n",
       "  </thead>\n",
       "  <tbody>\n",
       "    <tr>\n",
       "      <th>0</th>\n",
       "      <td>19</td>\n",
       "      <td>Adams, Leonie</td>\n",
       "      <td>Leonie Adams</td>\n",
       "      <td>Leonie</td>\n",
       "      <td>Adams</td>\n",
       "      <td>1966</td>\n",
       "      <td>NaN</td>\n",
       "      <td>USA</td>\n",
       "      <td>NY</td>\n",
       "      <td>New York</td>\n",
       "      <td>...</td>\n",
       "      <td>female</td>\n",
       "      <td>uniden</td>\n",
       "      <td>Barnard College</td>\n",
       "      <td>NaN</td>\n",
       "      <td>NaN</td>\n",
       "      <td>NaN</td>\n",
       "      <td>NaN</td>\n",
       "      <td>NaN</td>\n",
       "      <td>NaN</td>\n",
       "      <td>NaN</td>\n",
       "    </tr>\n",
       "    <tr>\n",
       "      <th>1</th>\n",
       "      <td>177</td>\n",
       "      <td>Belitt, Ben</td>\n",
       "      <td>Ben Belitt</td>\n",
       "      <td>Ben</td>\n",
       "      <td>Belitt</td>\n",
       "      <td>1966</td>\n",
       "      <td>NaN</td>\n",
       "      <td>USA</td>\n",
       "      <td>VT</td>\n",
       "      <td>Bennington</td>\n",
       "      <td>...</td>\n",
       "      <td>male</td>\n",
       "      <td>uniden</td>\n",
       "      <td>University of Virginia</td>\n",
       "      <td>NaN</td>\n",
       "      <td>University of Virginia</td>\n",
       "      <td>NaN</td>\n",
       "      <td>NaN</td>\n",
       "      <td>NaN</td>\n",
       "      <td>NaN</td>\n",
       "      <td>NaN</td>\n",
       "    </tr>\n",
       "    <tr>\n",
       "      <th>2</th>\n",
       "      <td>235</td>\n",
       "      <td>Bird, Laurel</td>\n",
       "      <td>Laurel Bird</td>\n",
       "      <td>Laurel</td>\n",
       "      <td>Bird</td>\n",
       "      <td>1966</td>\n",
       "      <td>NaN</td>\n",
       "      <td>USA</td>\n",
       "      <td>TN</td>\n",
       "      <td>Knoxville</td>\n",
       "      <td>...</td>\n",
       "      <td>female</td>\n",
       "      <td>uniden</td>\n",
       "      <td>NaN</td>\n",
       "      <td>NaN</td>\n",
       "      <td>NaN</td>\n",
       "      <td>NaN</td>\n",
       "      <td>NaN</td>\n",
       "      <td>NaN</td>\n",
       "      <td>NaN</td>\n",
       "      <td>NaN</td>\n",
       "    </tr>\n",
       "    <tr>\n",
       "      <th>3</th>\n",
       "      <td>282</td>\n",
       "      <td>Bourjaily, Vance</td>\n",
       "      <td>Vance Bourjaily</td>\n",
       "      <td>Vance</td>\n",
       "      <td>Bourjaily</td>\n",
       "      <td>1966</td>\n",
       "      <td>1979</td>\n",
       "      <td>USA</td>\n",
       "      <td>IA</td>\n",
       "      <td>Iowa City</td>\n",
       "      <td>...</td>\n",
       "      <td>male</td>\n",
       "      <td>uniden</td>\n",
       "      <td>Bowdoin College</td>\n",
       "      <td>NaN</td>\n",
       "      <td>NaN</td>\n",
       "      <td>NaN</td>\n",
       "      <td>NaN</td>\n",
       "      <td>NaN</td>\n",
       "      <td>NaN</td>\n",
       "      <td>NaN</td>\n",
       "    </tr>\n",
       "    <tr>\n",
       "      <th>4</th>\n",
       "      <td>303</td>\n",
       "      <td>Brasfield, Samuel</td>\n",
       "      <td>Samuel Brasfield</td>\n",
       "      <td>Samuel</td>\n",
       "      <td>Brasfield</td>\n",
       "      <td>1966</td>\n",
       "      <td>NaN</td>\n",
       "      <td>USA</td>\n",
       "      <td>AL</td>\n",
       "      <td>Demopolis</td>\n",
       "      <td>...</td>\n",
       "      <td>male</td>\n",
       "      <td>uniden</td>\n",
       "      <td>NaN</td>\n",
       "      <td>NaN</td>\n",
       "      <td>NaN</td>\n",
       "      <td>NaN</td>\n",
       "      <td>NaN</td>\n",
       "      <td>NaN</td>\n",
       "      <td>NaN</td>\n",
       "      <td>NaN</td>\n",
       "    </tr>\n",
       "  </tbody>\n",
       "</table>\n",
       "<p>5 rows × 21 columns</p>\n",
       "</div>"
      ]
     },
     "execution_count": 8,
     "metadata": {},
     "output_type": "execute_result"
    }
   ],
   "execution_count": 8
  },
  {
   "cell_type": "code",
   "id": "e36f3374-8440-45d5-bfd3-b5ae82181e35",
   "metadata": {
    "ExecuteTime": {
     "end_time": "2025-01-22T16:58:07.406288Z",
     "start_time": "2025-01-22T16:58:07.395745Z"
    }
   },
   "source": [
    "# how many don't have gender listed?\n",
    "df[df.gender == \"unknown\"]"
   ],
   "outputs": [
    {
     "data": {
      "text/plain": [
       "      nea_person_id full_name_lastfirst full_name_firstlast given_name_middle  \\\n",
       "493             348       Brown, Lennox        Lennox Brown            Lennox   \n",
       "705            2315          Rico, Noel           Noel Rico              Noel   \n",
       "759            1051    Gourdine, Delice     Delice Gourdine            Delice   \n",
       "910            1218      Hernandez, Luz       Luz Hernandez               Luz   \n",
       "999             467    Chambers, George     George Chambers            George   \n",
       "1114           2738     Swails, Laurell      Laurell Swails           Laurell   \n",
       "1143            193     Bennett, George      George Bennett            George   \n",
       "1314           2698       Stevens, Alex        Alex Stevens              Alex   \n",
       "1630           2029      Nichols, Maris       Maris Nichols             Maris   \n",
       "1944           2709     Strange, George      George Strange            George   \n",
       "2474           1823     McDonald, W. A.      W. A. McDonald             W. A.   \n",
       "\n",
       "     family_name  nea_grant_year other_nea_grant country us_state  \\\n",
       "493        Brown            1976             NaN     USA       NY   \n",
       "705         Rico            1977             NaN     USA       NY   \n",
       "759     Gourdine            1978             NaN     USA       MI   \n",
       "910    Hernandez            1979             NaN     USA       CA   \n",
       "999     Chambers            1980             NaN     USA       IL   \n",
       "1114      Swails            1980             NaN     USA       OR   \n",
       "1143     Bennett            1981             NaN     USA       NY   \n",
       "1314     Stevens            1982             NaN     USA       MD   \n",
       "1630     Nichols            1985             NaN     USA       MA   \n",
       "1944     Strange            1988             NaN     USA       GA   \n",
       "2474    McDonald            1994             NaN   Chile      NaN   \n",
       "\n",
       "            hometown  ...   gender   race_ethnicity                ba  \\\n",
       "493           Queens  ...  unknown  black / caribam  St Marys College   \n",
       "705         New York  ...  unknown           uniden               NaN   \n",
       "759       St. Joseph  ...  unknown           uniden               NaN   \n",
       "910          Oakland  ...  unknown           uniden               NaN   \n",
       "999           Peoria  ...  unknown           uniden               NaN   \n",
       "1114     Lake Oswego  ...  unknown           uniden               NaN   \n",
       "1143        New York  ...  unknown           uniden               NaN   \n",
       "1314      Queen Anne  ...  unknown           uniden               NaN   \n",
       "1630      Pittsfield  ...  unknown           uniden               NaN   \n",
       "1944         Douglas  ...  unknown           uniden               NaN   \n",
       "2474  No city listed  ...  unknown           uniden               NaN   \n",
       "\n",
       "                                ba2                     ma  ma2  phd  \\\n",
       "493   University of Western Ontario  University of Toronto  NaN  NaN   \n",
       "705                             NaN                    NaN  NaN  NaN   \n",
       "759                             NaN                    NaN  NaN  NaN   \n",
       "910                             NaN                    NaN  NaN  NaN   \n",
       "999                             NaN                    NaN  NaN  NaN   \n",
       "1114                            NaN                    NaN  NaN  NaN   \n",
       "1143                            NaN                    NaN  NaN  NaN   \n",
       "1314                            NaN                    NaN  NaN  NaN   \n",
       "1630                            NaN                    NaN  NaN  NaN   \n",
       "1944                            NaN                    NaN  NaN  NaN   \n",
       "2474                            NaN                    NaN  NaN  NaN   \n",
       "\n",
       "                      mfa mfa2 post45_hathi_entry  \n",
       "493                   NaN  NaN                NaN  \n",
       "705                   NaN  NaN                NaN  \n",
       "759                   NaN  NaN                NaN  \n",
       "910                   NaN  NaN                NaN  \n",
       "999                   NaN  NaN                Yes  \n",
       "1114                  NaN  NaN                NaN  \n",
       "1143                  NaN  NaN                Yes  \n",
       "1314                  NaN  NaN                NaN  \n",
       "1630  Stanford University  NaN                NaN  \n",
       "1944                  NaN  NaN                NaN  \n",
       "2474                  NaN  NaN                NaN  \n",
       "\n",
       "[11 rows x 21 columns]"
      ],
      "text/html": [
       "<div>\n",
       "<style scoped>\n",
       "    .dataframe tbody tr th:only-of-type {\n",
       "        vertical-align: middle;\n",
       "    }\n",
       "\n",
       "    .dataframe tbody tr th {\n",
       "        vertical-align: top;\n",
       "    }\n",
       "\n",
       "    .dataframe thead th {\n",
       "        text-align: right;\n",
       "    }\n",
       "</style>\n",
       "<table border=\"1\" class=\"dataframe\">\n",
       "  <thead>\n",
       "    <tr style=\"text-align: right;\">\n",
       "      <th></th>\n",
       "      <th>nea_person_id</th>\n",
       "      <th>full_name_lastfirst</th>\n",
       "      <th>full_name_firstlast</th>\n",
       "      <th>given_name_middle</th>\n",
       "      <th>family_name</th>\n",
       "      <th>nea_grant_year</th>\n",
       "      <th>other_nea_grant</th>\n",
       "      <th>country</th>\n",
       "      <th>us_state</th>\n",
       "      <th>hometown</th>\n",
       "      <th>...</th>\n",
       "      <th>gender</th>\n",
       "      <th>race_ethnicity</th>\n",
       "      <th>ba</th>\n",
       "      <th>ba2</th>\n",
       "      <th>ma</th>\n",
       "      <th>ma2</th>\n",
       "      <th>phd</th>\n",
       "      <th>mfa</th>\n",
       "      <th>mfa2</th>\n",
       "      <th>post45_hathi_entry</th>\n",
       "    </tr>\n",
       "  </thead>\n",
       "  <tbody>\n",
       "    <tr>\n",
       "      <th>493</th>\n",
       "      <td>348</td>\n",
       "      <td>Brown, Lennox</td>\n",
       "      <td>Lennox Brown</td>\n",
       "      <td>Lennox</td>\n",
       "      <td>Brown</td>\n",
       "      <td>1976</td>\n",
       "      <td>NaN</td>\n",
       "      <td>USA</td>\n",
       "      <td>NY</td>\n",
       "      <td>Queens</td>\n",
       "      <td>...</td>\n",
       "      <td>unknown</td>\n",
       "      <td>black / caribam</td>\n",
       "      <td>St Marys College</td>\n",
       "      <td>University of Western Ontario</td>\n",
       "      <td>University of Toronto</td>\n",
       "      <td>NaN</td>\n",
       "      <td>NaN</td>\n",
       "      <td>NaN</td>\n",
       "      <td>NaN</td>\n",
       "      <td>NaN</td>\n",
       "    </tr>\n",
       "    <tr>\n",
       "      <th>705</th>\n",
       "      <td>2315</td>\n",
       "      <td>Rico, Noel</td>\n",
       "      <td>Noel Rico</td>\n",
       "      <td>Noel</td>\n",
       "      <td>Rico</td>\n",
       "      <td>1977</td>\n",
       "      <td>NaN</td>\n",
       "      <td>USA</td>\n",
       "      <td>NY</td>\n",
       "      <td>New York</td>\n",
       "      <td>...</td>\n",
       "      <td>unknown</td>\n",
       "      <td>uniden</td>\n",
       "      <td>NaN</td>\n",
       "      <td>NaN</td>\n",
       "      <td>NaN</td>\n",
       "      <td>NaN</td>\n",
       "      <td>NaN</td>\n",
       "      <td>NaN</td>\n",
       "      <td>NaN</td>\n",
       "      <td>NaN</td>\n",
       "    </tr>\n",
       "    <tr>\n",
       "      <th>759</th>\n",
       "      <td>1051</td>\n",
       "      <td>Gourdine, Delice</td>\n",
       "      <td>Delice Gourdine</td>\n",
       "      <td>Delice</td>\n",
       "      <td>Gourdine</td>\n",
       "      <td>1978</td>\n",
       "      <td>NaN</td>\n",
       "      <td>USA</td>\n",
       "      <td>MI</td>\n",
       "      <td>St. Joseph</td>\n",
       "      <td>...</td>\n",
       "      <td>unknown</td>\n",
       "      <td>uniden</td>\n",
       "      <td>NaN</td>\n",
       "      <td>NaN</td>\n",
       "      <td>NaN</td>\n",
       "      <td>NaN</td>\n",
       "      <td>NaN</td>\n",
       "      <td>NaN</td>\n",
       "      <td>NaN</td>\n",
       "      <td>NaN</td>\n",
       "    </tr>\n",
       "    <tr>\n",
       "      <th>910</th>\n",
       "      <td>1218</td>\n",
       "      <td>Hernandez, Luz</td>\n",
       "      <td>Luz Hernandez</td>\n",
       "      <td>Luz</td>\n",
       "      <td>Hernandez</td>\n",
       "      <td>1979</td>\n",
       "      <td>NaN</td>\n",
       "      <td>USA</td>\n",
       "      <td>CA</td>\n",
       "      <td>Oakland</td>\n",
       "      <td>...</td>\n",
       "      <td>unknown</td>\n",
       "      <td>uniden</td>\n",
       "      <td>NaN</td>\n",
       "      <td>NaN</td>\n",
       "      <td>NaN</td>\n",
       "      <td>NaN</td>\n",
       "      <td>NaN</td>\n",
       "      <td>NaN</td>\n",
       "      <td>NaN</td>\n",
       "      <td>NaN</td>\n",
       "    </tr>\n",
       "    <tr>\n",
       "      <th>999</th>\n",
       "      <td>467</td>\n",
       "      <td>Chambers, George</td>\n",
       "      <td>George Chambers</td>\n",
       "      <td>George</td>\n",
       "      <td>Chambers</td>\n",
       "      <td>1980</td>\n",
       "      <td>NaN</td>\n",
       "      <td>USA</td>\n",
       "      <td>IL</td>\n",
       "      <td>Peoria</td>\n",
       "      <td>...</td>\n",
       "      <td>unknown</td>\n",
       "      <td>uniden</td>\n",
       "      <td>NaN</td>\n",
       "      <td>NaN</td>\n",
       "      <td>NaN</td>\n",
       "      <td>NaN</td>\n",
       "      <td>NaN</td>\n",
       "      <td>NaN</td>\n",
       "      <td>NaN</td>\n",
       "      <td>Yes</td>\n",
       "    </tr>\n",
       "    <tr>\n",
       "      <th>1114</th>\n",
       "      <td>2738</td>\n",
       "      <td>Swails, Laurell</td>\n",
       "      <td>Laurell Swails</td>\n",
       "      <td>Laurell</td>\n",
       "      <td>Swails</td>\n",
       "      <td>1980</td>\n",
       "      <td>NaN</td>\n",
       "      <td>USA</td>\n",
       "      <td>OR</td>\n",
       "      <td>Lake Oswego</td>\n",
       "      <td>...</td>\n",
       "      <td>unknown</td>\n",
       "      <td>uniden</td>\n",
       "      <td>NaN</td>\n",
       "      <td>NaN</td>\n",
       "      <td>NaN</td>\n",
       "      <td>NaN</td>\n",
       "      <td>NaN</td>\n",
       "      <td>NaN</td>\n",
       "      <td>NaN</td>\n",
       "      <td>NaN</td>\n",
       "    </tr>\n",
       "    <tr>\n",
       "      <th>1143</th>\n",
       "      <td>193</td>\n",
       "      <td>Bennett, George</td>\n",
       "      <td>George Bennett</td>\n",
       "      <td>George</td>\n",
       "      <td>Bennett</td>\n",
       "      <td>1981</td>\n",
       "      <td>NaN</td>\n",
       "      <td>USA</td>\n",
       "      <td>NY</td>\n",
       "      <td>New York</td>\n",
       "      <td>...</td>\n",
       "      <td>unknown</td>\n",
       "      <td>uniden</td>\n",
       "      <td>NaN</td>\n",
       "      <td>NaN</td>\n",
       "      <td>NaN</td>\n",
       "      <td>NaN</td>\n",
       "      <td>NaN</td>\n",
       "      <td>NaN</td>\n",
       "      <td>NaN</td>\n",
       "      <td>Yes</td>\n",
       "    </tr>\n",
       "    <tr>\n",
       "      <th>1314</th>\n",
       "      <td>2698</td>\n",
       "      <td>Stevens, Alex</td>\n",
       "      <td>Alex Stevens</td>\n",
       "      <td>Alex</td>\n",
       "      <td>Stevens</td>\n",
       "      <td>1982</td>\n",
       "      <td>NaN</td>\n",
       "      <td>USA</td>\n",
       "      <td>MD</td>\n",
       "      <td>Queen Anne</td>\n",
       "      <td>...</td>\n",
       "      <td>unknown</td>\n",
       "      <td>uniden</td>\n",
       "      <td>NaN</td>\n",
       "      <td>NaN</td>\n",
       "      <td>NaN</td>\n",
       "      <td>NaN</td>\n",
       "      <td>NaN</td>\n",
       "      <td>NaN</td>\n",
       "      <td>NaN</td>\n",
       "      <td>NaN</td>\n",
       "    </tr>\n",
       "    <tr>\n",
       "      <th>1630</th>\n",
       "      <td>2029</td>\n",
       "      <td>Nichols, Maris</td>\n",
       "      <td>Maris Nichols</td>\n",
       "      <td>Maris</td>\n",
       "      <td>Nichols</td>\n",
       "      <td>1985</td>\n",
       "      <td>NaN</td>\n",
       "      <td>USA</td>\n",
       "      <td>MA</td>\n",
       "      <td>Pittsfield</td>\n",
       "      <td>...</td>\n",
       "      <td>unknown</td>\n",
       "      <td>uniden</td>\n",
       "      <td>NaN</td>\n",
       "      <td>NaN</td>\n",
       "      <td>NaN</td>\n",
       "      <td>NaN</td>\n",
       "      <td>NaN</td>\n",
       "      <td>Stanford University</td>\n",
       "      <td>NaN</td>\n",
       "      <td>NaN</td>\n",
       "    </tr>\n",
       "    <tr>\n",
       "      <th>1944</th>\n",
       "      <td>2709</td>\n",
       "      <td>Strange, George</td>\n",
       "      <td>George Strange</td>\n",
       "      <td>George</td>\n",
       "      <td>Strange</td>\n",
       "      <td>1988</td>\n",
       "      <td>NaN</td>\n",
       "      <td>USA</td>\n",
       "      <td>GA</td>\n",
       "      <td>Douglas</td>\n",
       "      <td>...</td>\n",
       "      <td>unknown</td>\n",
       "      <td>uniden</td>\n",
       "      <td>NaN</td>\n",
       "      <td>NaN</td>\n",
       "      <td>NaN</td>\n",
       "      <td>NaN</td>\n",
       "      <td>NaN</td>\n",
       "      <td>NaN</td>\n",
       "      <td>NaN</td>\n",
       "      <td>NaN</td>\n",
       "    </tr>\n",
       "    <tr>\n",
       "      <th>2474</th>\n",
       "      <td>1823</td>\n",
       "      <td>McDonald, W. A.</td>\n",
       "      <td>W. A. McDonald</td>\n",
       "      <td>W. A.</td>\n",
       "      <td>McDonald</td>\n",
       "      <td>1994</td>\n",
       "      <td>NaN</td>\n",
       "      <td>Chile</td>\n",
       "      <td>NaN</td>\n",
       "      <td>No city listed</td>\n",
       "      <td>...</td>\n",
       "      <td>unknown</td>\n",
       "      <td>uniden</td>\n",
       "      <td>NaN</td>\n",
       "      <td>NaN</td>\n",
       "      <td>NaN</td>\n",
       "      <td>NaN</td>\n",
       "      <td>NaN</td>\n",
       "      <td>NaN</td>\n",
       "      <td>NaN</td>\n",
       "      <td>NaN</td>\n",
       "    </tr>\n",
       "  </tbody>\n",
       "</table>\n",
       "<p>11 rows × 21 columns</p>\n",
       "</div>"
      ]
     },
     "execution_count": 9,
     "metadata": {},
     "output_type": "execute_result"
    }
   ],
   "execution_count": 9
  },
  {
   "cell_type": "code",
   "id": "9b330ab1-02cd-40cc-b930-cc0347f222a1",
   "metadata": {
    "ExecuteTime": {
     "end_time": "2025-01-22T16:58:09.857938Z",
     "start_time": "2025-01-22T16:58:09.851830Z"
    }
   },
   "source": [
    "# how many don't have a race or ethnicity\n",
    "print(\"No race\", len(df[df.race_ethnicity == \"uniden\"]))\n",
    "print(\"Race\", len(df[df.race_ethnicity != \"uniden\"]))"
   ],
   "outputs": [
    {
     "name": "stdout",
     "output_type": "stream",
     "text": [
      "No race 2617\n",
      "Race 1088\n"
     ]
    }
   ],
   "execution_count": 10
  },
  {
   "cell_type": "code",
   "id": "997a45ca-818f-4419-bfb7-0dbd969570e2",
   "metadata": {
    "ExecuteTime": {
     "end_time": "2025-01-22T16:58:11.199380Z",
     "start_time": "2025-01-22T16:58:11.194525Z"
    }
   },
   "source": [
    "df.race_ethnicity.value_counts()"
   ],
   "outputs": [
    {
     "data": {
      "text/plain": [
       "race_ethnicity\n",
       "uniden                         2617\n",
       "afam                            220\n",
       "white                           195\n",
       "uniden / jewish                 136\n",
       "asianam                         118\n",
       "                               ... \n",
       "uniden / romanianam               1\n",
       "caribam / latinx                  1\n",
       "indigenous / latinx / white       1\n",
       "latinx / portugueseam             1\n",
       "uniden / ukranianam               1\n",
       "Name: count, Length: 94, dtype: int64"
      ]
     },
     "execution_count": 11,
     "metadata": {},
     "output_type": "execute_result"
    }
   ],
   "execution_count": 11
  },
  {
   "cell_type": "code",
   "id": "184c7fdf-88cb-4307-8888-1e97468c5b53",
   "metadata": {
    "ExecuteTime": {
     "end_time": "2025-01-22T16:58:12.817948Z",
     "start_time": "2025-01-22T16:58:12.813594Z"
    }
   },
   "source": [
    "df.race_ethnicity = df.race_ethnicity.replace(\"uniden / \",\"\", regex = True)"
   ],
   "outputs": [],
   "execution_count": 12
  },
  {
   "cell_type": "code",
   "id": "b859b729-1d83-409b-b3be-785777619c3b",
   "metadata": {
    "ExecuteTime": {
     "end_time": "2025-01-22T16:58:13.470889Z",
     "start_time": "2025-01-22T16:58:13.466602Z"
    }
   },
   "source": [
    "r_e = df.race_ethnicity.value_counts()\n",
    "r_e"
   ],
   "outputs": [
    {
     "data": {
      "text/plain": [
       "race_ethnicity\n",
       "uniden                         2617\n",
       "afam                            220\n",
       "white                           195\n",
       "jewish                          136\n",
       "asianam                         118\n",
       "                               ... \n",
       "romanianam                        1\n",
       "caribam / latinx                  1\n",
       "indigenous / latinx / white       1\n",
       "latinx / portugueseam             1\n",
       "ukranianam                        1\n",
       "Name: count, Length: 94, dtype: int64"
      ]
     },
     "execution_count": 13,
     "metadata": {},
     "output_type": "execute_result"
    }
   ],
   "execution_count": 13
  },
  {
   "cell_type": "code",
   "id": "b530fbbd-228f-4dbd-983a-1a8ffb8a8e1f",
   "metadata": {
    "ExecuteTime": {
     "end_time": "2025-01-22T16:58:14.567356Z",
     "start_time": "2025-01-22T16:58:14.424813Z"
    }
   },
   "source": [
    "race = r_e[1:10]\n",
    "race.plot.bar(title = \"Race of NEA Creative Writing Recipients\")"
   ],
   "outputs": [
    {
     "data": {
      "text/plain": [
       "<Axes: title={'center': 'Race of NEA Creative Writing Recipients'}, xlabel='race_ethnicity'>"
      ]
     },
     "execution_count": 14,
     "metadata": {},
     "output_type": "execute_result"
    },
    {
     "data": {
      "text/plain": [
       "<Figure size 640x480 with 1 Axes>"
      ],
      "image/png": "[encoded data removed]"
     },
     "metadata": {},
     "output_type": "display_data"
    }
   ],
   "execution_count": 14
  },
  {
   "cell_type": "code",
   "id": "e0c832b4-9560-4be9-8c1c-4bae5bf45fc9",
   "metadata": {
    "ExecuteTime": {
     "end_time": "2025-01-22T16:58:15.123280Z",
     "start_time": "2025-01-22T16:58:15.119691Z"
    }
   },
   "source": [
    "ba = df.ba.value_counts()[:11]\n",
    "ba"
   ],
   "outputs": [
    {
     "data": {
      "text/plain": [
       "ba\n",
       "Harvard University                   106\n",
       "Columbia University                   68\n",
       "Yale University                       64\n",
       "University of California Berkeley     59\n",
       "University of Michigan Ann Arbor      50\n",
       "Brown University                      42\n",
       "San Francisco State University        40\n",
       "Oberlin College                       37\n",
       "New York University                   36\n",
       "University of Iowa                    35\n",
       "University of Washington              33\n",
       "Name: count, dtype: int64"
      ]
     },
     "execution_count": 15,
     "metadata": {},
     "output_type": "execute_result"
    }
   ],
   "execution_count": 15
  },
  {
   "cell_type": "code",
   "id": "4eed1e89-8faf-4237-8263-f0ed2d92c51e",
   "metadata": {
    "ExecuteTime": {
     "end_time": "2025-01-22T16:58:17.315210Z",
     "start_time": "2025-01-22T16:58:17.303351Z"
    }
   },
   "source": [
    "print(\"ba listed \",len(df) - df.ba.isna().sum())\n",
    "print(\"ba listed \", ((len(df) - df.ba.isna().sum())/len(df))*100,\"%\")"
   ],
   "outputs": [
    {
     "name": "stdout",
     "output_type": "stream",
     "text": [
      "ba listed  2973\n",
      "ba listed  80.24291497975709 %\n"
     ]
    }
   ],
   "execution_count": 16
  },
  {
   "cell_type": "code",
   "id": "901ad4a5-f1c8-4a71-81a6-207e94db8f60",
   "metadata": {
    "ExecuteTime": {
     "end_time": "2025-01-22T16:58:18.705377Z",
     "start_time": "2025-01-22T16:58:18.645716Z"
    }
   },
   "source": [
    "ba.plot.bar()"
   ],
   "outputs": [
    {
     "data": {
      "text/plain": [
       "<Axes: xlabel='ba'>"
      ]
     },
     "execution_count": 17,
     "metadata": {},
     "output_type": "execute_result"
    },
    {
     "data": {
      "text/plain": [
       "<Figure size 640x480 with 1 Axes>"
      ],
      "image/png": "[encoded data removed]"
     },
     "metadata": {},
     "output_type": "display_data"
    }
   ],
   "execution_count": 17
  },
  {
   "cell_type": "code",
   "id": "78dc9118-c045-401c-a2f5-712a05c69e56",
   "metadata": {
    "ExecuteTime": {
     "end_time": "2025-01-22T16:58:19.887673Z",
     "start_time": "2025-01-22T16:58:19.882836Z"
    }
   },
   "source": [
    "ivies = [\"Brown University\", \"Columbia University\", \"Cornell University\", \"Dartmouth College\", \n",
    "\"Harvard University\", \"University of Pennsylvania\", \"Princeton University\", \"Yale University\"]\n",
    "\n",
    "df[\"Ivy\"] = df.ba.isin(ivies)\n",
    "df.Ivy.value_counts()"
   ],
   "outputs": [
    {
     "data": {
      "text/plain": [
       "Ivy\n",
       "False    3327\n",
       "True      378\n",
       "Name: count, dtype: int64"
      ]
     },
     "execution_count": 18,
     "metadata": {},
     "output_type": "execute_result"
    }
   ],
   "execution_count": 18
  },
  {
   "cell_type": "code",
   "id": "eb6a18e6-9f7f-466e-8370-09201da6d254",
   "metadata": {
    "ExecuteTime": {
     "end_time": "2025-01-22T16:58:21.274983Z",
     "start_time": "2025-01-22T16:58:21.247289Z"
    }
   },
   "source": [
    "ivies = [\"Brown University\", \"Columbia University\", \"Cornell University\", \"Dartmouth College\", \n",
    "\"Harvard University\", \"University of Pennsylvania\", \"Princeton University\", \"Yale University\"]\n",
    "tier_1_schools = [\n",
    "    \"Stanford University\",\n",
    "    \"Massachusetts Institute of Technology (MIT)\",\n",
    "    \"California Institute of Technology (Caltech)\",\n",
    "    \"University of Chicago\",\n",
    "    \"Duke University\",\n",
    "    \"Northwestern University\",\n",
    "    \"University of California, Berkeley (UC Berkeley)\",\n",
    "    \"University of California, Los Angeles (UCLA)\",\n",
    "    \"University of Michigan, Ann Arbor\",\n",
    "    \"University of Texas at Austin\",\n",
    "    \"Carnegie Mellon University\",\n",
    "    \"University of Southern California (USC)\",\n",
    "    \"Johns Hopkins University\",\n",
    "    \"Georgia Institute of Technology (Georgia Tech)\",\n",
    "    \"University of North Carolina at Chapel Hill\"\n",
    "]\n",
    "\n",
    "tier_2_schools = [\n",
    "    \"University of Washington\",\n",
    "    \"University of Wisconsin-Madison\",\n",
    "    \"University of Illinois Urbana-Champaign\",\n",
    "    \"University of Florida\",\n",
    "    \"Pennsylvania State University (Penn State)\",\n",
    "    \"Ohio State University\",\n",
    "    \"Purdue University\",\n",
    "    \"University of Maryland, College Park\",\n",
    "    \"Texas A&M University\",\n",
    "    \"University of Minnesota, Twin Cities\",\n",
    "    \"University of Virginia\",\n",
    "    \"University of California, San Diego (UCSD)\",\n",
    "    \"University of California, Davis (UC Davis)\",\n",
    "    \"Boston University\",\n",
    "    \"University of Rochester\",\n",
    "    \"Michigan State University\",\n",
    "    \"Indiana University Bloomington\",\n",
    "    \"University of Colorado Boulder\",\n",
    "    \"University of Arizona\",\n",
    "    \"University of Utah\"\n",
    "]\n",
    "\n",
    "top_schools = ivies + tier_1_schools\n",
    "\n",
    "# Define a function to fill the new column based on string matching\n",
    "def fill_new_column(row):\n",
    "    if row['ba'] in ivies:\n",
    "        return \"Ivy League\"\n",
    "    elif row['ba'] in tier_1_schools:\n",
    "        return \"Tier 1\"\n",
    "    elif row['ba'] in tier_2_schools:\n",
    "        return \"Tier 2\"\n",
    "    else:\n",
    "        return \"not_found\"\n",
    "\n",
    "# Apply the function to create a new column\n",
    "df['Tier'] = df.apply(fill_new_column, axis=1)\n",
    "\n",
    "df.Tier.value_counts()"
   ],
   "outputs": [
    {
     "data": {
      "text/plain": [
       "Tier\n",
       "not_found     3059\n",
       "Ivy League     378\n",
       "Tier 2         164\n",
       "Tier 1         104\n",
       "Name: count, dtype: int64"
      ]
     },
     "execution_count": 19,
     "metadata": {},
     "output_type": "execute_result"
    }
   ],
   "execution_count": 19
  },
  {
   "cell_type": "code",
   "id": "e5048980-5ad2-496b-841a-1ee81c8aade7",
   "metadata": {
    "ExecuteTime": {
     "end_time": "2025-01-22T16:58:22.990215Z",
     "start_time": "2025-01-22T16:58:22.971854Z"
    }
   },
   "source": [
    "top_schools = ivies + tier_1_schools\n",
    "\n",
    "# Define a function to fill the new column based on string matching\n",
    "def fill_new_column_top(row):\n",
    "    if row['ba'] in top_schools:\n",
    "        return \"Top School\"\n",
    "    else:\n",
    "        return \"Other\"\n",
    "        \n",
    "# Apply the function to create a new column\n",
    "df['Top_schools'] = df.apply(fill_new_column_top, axis=1)\n",
    "\n",
    "top_schools = df.Top_schools.value_counts(normalize=True)\n",
    "top_schools"
   ],
   "outputs": [
    {
     "data": {
      "text/plain": [
       "Top_schools\n",
       "Other         0.869906\n",
       "Top School    0.130094\n",
       "Name: proportion, dtype: float64"
      ]
     },
     "execution_count": 20,
     "metadata": {},
     "output_type": "execute_result"
    }
   ],
   "execution_count": 20
  },
  {
   "cell_type": "code",
   "id": "a8da5c51-6515-4c51-a327-7f88606ce4f9",
   "metadata": {
    "ExecuteTime": {
     "end_time": "2025-01-22T16:58:24.066231Z",
     "start_time": "2025-01-22T16:58:24.033769Z"
    }
   },
   "source": [
    "top_schools.plot.pie()"
   ],
   "outputs": [
    {
     "data": {
      "text/plain": [
       "<Axes: ylabel='proportion'>"
      ]
     },
     "execution_count": 21,
     "metadata": {},
     "output_type": "execute_result"
    },
    {
     "data": {
      "text/plain": [
       "<Figure size 640x480 with 1 Axes>"
      ],
      "image/png": "[encoded data removed]"
     },
     "metadata": {},
     "output_type": "display_data"
    }
   ],
   "execution_count": 21
  },
  {
   "cell_type": "markdown",
   "id": "960580c7-2581-4686-9afc-9606e21b8b91",
   "metadata": {},
   "source": [
    "# NYTimes"
   ]
  },
  {
   "cell_type": "code",
   "id": "cc314b6d-0079-4667-acff-3ec347a5345b",
   "metadata": {
    "ExecuteTime": {
     "end_time": "2025-01-22T17:04:34.985618Z",
     "start_time": "2025-01-22T17:04:34.938898Z"
    }
   },
   "source": [
    "nyt = pd.read_csv(\"nyt_full.tsv\", sep = '\\t')\n",
    "nyt.head()"
   ],
   "outputs": [
    {
     "data": {
      "text/plain": [
       "   year        week  rank  title_id                      title  \\\n",
       "0  1931  1931-10-12     1      6477       THE TEN COMMANDMENTS   \n",
       "1  1931  1931-10-12     2      1808           FINCHE'S FORTUNE   \n",
       "2  1931  1931-10-12     3      5304             THE GOOD EARTH   \n",
       "3  1931  1931-10-12     4      4038        SHADOWS ON THE ROCK   \n",
       "4  1931  1931-10-12     5      3946  SCARMOUCHE THE KING MAKER   \n",
       "\n",
       "             author  \n",
       "0   Warwick Deeping  \n",
       "1  Mazo de la Roche  \n",
       "2     Pearl S. Buck  \n",
       "3      Willa Cather  \n",
       "4   Rafael Sabatini  "
      ],
      "text/html": [
       "<div>\n",
       "<style scoped>\n",
       "    .dataframe tbody tr th:only-of-type {\n",
       "        vertical-align: middle;\n",
       "    }\n",
       "\n",
       "    .dataframe tbody tr th {\n",
       "        vertical-align: top;\n",
       "    }\n",
       "\n",
       "    .dataframe thead th {\n",
       "        text-align: right;\n",
       "    }\n",
       "</style>\n",
       "<table border=\"1\" class=\"dataframe\">\n",
       "  <thead>\n",
       "    <tr style=\"text-align: right;\">\n",
       "      <th></th>\n",
       "      <th>year</th>\n",
       "      <th>week</th>\n",
       "      <th>rank</th>\n",
       "      <th>title_id</th>\n",
       "      <th>title</th>\n",
       "      <th>author</th>\n",
       "    </tr>\n",
       "  </thead>\n",
       "  <tbody>\n",
       "    <tr>\n",
       "      <th>0</th>\n",
       "      <td>1931</td>\n",
       "      <td>1931-10-12</td>\n",
       "      <td>1</td>\n",
       "      <td>6477</td>\n",
       "      <td>THE TEN COMMANDMENTS</td>\n",
       "      <td>Warwick Deeping</td>\n",
       "    </tr>\n",
       "    <tr>\n",
       "      <th>1</th>\n",
       "      <td>1931</td>\n",
       "      <td>1931-10-12</td>\n",
       "      <td>2</td>\n",
       "      <td>1808</td>\n",
       "      <td>FINCHE'S FORTUNE</td>\n",
       "      <td>Mazo de la Roche</td>\n",
       "    </tr>\n",
       "    <tr>\n",
       "      <th>2</th>\n",
       "      <td>1931</td>\n",
       "      <td>1931-10-12</td>\n",
       "      <td>3</td>\n",
       "      <td>5304</td>\n",
       "      <td>THE GOOD EARTH</td>\n",
       "      <td>Pearl S. Buck</td>\n",
       "    </tr>\n",
       "    <tr>\n",
       "      <th>3</th>\n",
       "      <td>1931</td>\n",
       "      <td>1931-10-12</td>\n",
       "      <td>4</td>\n",
       "      <td>4038</td>\n",
       "      <td>SHADOWS ON THE ROCK</td>\n",
       "      <td>Willa Cather</td>\n",
       "    </tr>\n",
       "    <tr>\n",
       "      <th>4</th>\n",
       "      <td>1931</td>\n",
       "      <td>1931-10-12</td>\n",
       "      <td>5</td>\n",
       "      <td>3946</td>\n",
       "      <td>SCARMOUCHE THE KING MAKER</td>\n",
       "      <td>Rafael Sabatini</td>\n",
       "    </tr>\n",
       "  </tbody>\n",
       "</table>\n",
       "</div>"
      ]
     },
     "execution_count": 25,
     "metadata": {},
     "output_type": "execute_result"
    }
   ],
   "execution_count": 25
  },
  {
   "cell_type": "code",
   "id": "a620bba7-b085-4ac7-99a8-be29f9a96527",
   "metadata": {
    "ExecuteTime": {
     "end_time": "2025-01-22T17:04:38.278217Z",
     "start_time": "2025-01-22T17:04:38.273898Z"
    }
   },
   "source": [
    "nyt.author.nunique()"
   ],
   "outputs": [
    {
     "data": {
      "text/plain": [
       "2210"
      ]
     },
     "execution_count": 26,
     "metadata": {},
     "output_type": "execute_result"
    }
   ],
   "execution_count": 26
  },
  {
   "cell_type": "code",
   "id": "a026e4fc-0c2a-4474-aaf3-a9d2315977bb",
   "metadata": {
    "ExecuteTime": {
     "end_time": "2025-01-22T17:04:39.084311Z",
     "start_time": "2025-01-22T17:04:39.080514Z"
    }
   },
   "source": [
    "print(nyt.author)"
   ],
   "outputs": [
    {
     "name": "stdout",
     "output_type": "stream",
     "text": [
      "0                        Warwick Deeping\n",
      "1                       Mazo de la Roche\n",
      "2                          Pearl S. Buck\n",
      "3                           Willa Cather\n",
      "4                        Rafael Sabatini\n",
      "                      ...               \n",
      "60381                             Halsey\n",
      "60382                       Brit Bennett\n",
      "60383                        Delia Owens\n",
      "60384                    Fredrik Backman\n",
      "60385    Clive Cussler and Boyd Morrison\n",
      "Name: author, Length: 60386, dtype: object\n"
     ]
    }
   ],
   "execution_count": 27
  },
  {
   "cell_type": "code",
   "id": "366650bf-bb5e-41b9-b25e-6dea4a773b59",
   "metadata": {
    "ExecuteTime": {
     "end_time": "2025-01-22T17:07:45.101748Z",
     "start_time": "2025-01-22T17:07:45.091809Z"
    }
   },
   "source": [
    "nyt_authors = nyt.author.unique().tolist()\n",
    "\n",
    "# Because GPT can only do so many at once\n",
    "import itertools as it\n",
    "\n",
    "cnt = 0\n",
    "auth50 = list(it.batched(nyt_authors, 50))\n",
    "for item in auth50:\n",
    "    cnt+=1\n",
    "    c = str(cnt)\n",
    "    with open(\"nytimes_auth/authors\"+c+\".txt\", \"w\") as output:\n",
    "        output.write(str(item))\n"
   ],
   "outputs": [],
   "execution_count": 32
  },
  {
   "cell_type": "markdown",
   "id": "8ed1d9ce-e839-4f0f-82bb-0da8da5ff232",
   "metadata": {},
   "source": [
    "# Use GPT to gather data about the authors"
   ]
  },
  {
   "cell_type": "code",
   "id": "6bf7fd10-3fe6-45c6-bbd9-337b99f90eb4",
   "metadata": {
    "ExecuteTime": {
     "end_time": "2025-01-22T18:00:38.241814Z",
     "start_time": "2025-01-22T18:00:37.610458Z"
    }
   },
   "source": [
    "import openai\n",
    "myapikey = open('my_gpt_apikey.txt').readline().rstrip()\n",
    "\n",
    "client = OpenAI(api_key=myapikey)\n",
    "\n",
    "completion = client.chat.completions.create(\n",
    "    model=\"gpt-4o-mini\",\n",
    "    messages=[\n",
    "        {\"role\": \"system\", \"content\": \"You are a literary historian.\"},\n",
    "        {\n",
    "            \"role\": \"user\",\n",
    "            \"content\": \"What is Warwick Deeping's birth year?\"\n",
    "        }\n",
    "    ]\n",
    ")\n",
    "\n",
    "\n"
   ],
   "outputs": [],
   "execution_count": 45
  },
  {
   "cell_type": "code",
   "id": "d2cfa9fb-1081-4514-abf2-2122dd490007",
   "metadata": {
    "ExecuteTime": {
     "end_time": "2025-01-22T18:00:51.424098Z",
     "start_time": "2025-01-22T18:00:51.421500Z"
    }
   },
   "source": "print(completion.choices[0].message)",
   "outputs": [
    {
     "name": "stdout",
     "output_type": "stream",
     "text": [
      "ChatCompletionMessage(content='Warwick Deeping was born in the year 1877.', refusal=None, role='assistant', audio=None, function_call=None, tool_calls=None)\n"
     ]
    }
   ],
   "execution_count": 46
  },
  {
   "cell_type": "code",
   "execution_count": null,
   "id": "6190b641-0e44-4983-b08a-00de9ee2192d",
   "metadata": {},
   "outputs": [],
   "source": []
  },
  {
   "cell_type": "code",
   "execution_count": null,
   "id": "c6a05963-a045-4425-a648-1c0aaacdb9c4",
   "metadata": {},
   "outputs": [],
   "source": []
  },
  {
   "cell_type": "code",
   "execution_count": null,
   "id": "bf25bbfe-f30d-4d98-82ed-7769d7749ff5",
   "metadata": {},
   "outputs": [],
   "source": [
    "with open(\"../nytimes/authors.txt\", \"w\") as output:\n",
    "    output.write(str(nyt_authors))"
   ]
  },
  {
   "cell_type": "code",
   "execution_count": null,
   "id": "0de5883d-0349-4bdd-b190-7106ed7c7deb",
   "metadata": {},
   "outputs": [],
   "source": [
    "nyt.title.nunique()"
   ]
  },
  {
   "cell_type": "code",
   "execution_count": null,
   "id": "198b13bd-4a64-462a-955e-8977e4f729e3",
   "metadata": {},
   "outputs": [],
   "source": [
    "author_demo = pd.read_csv(\"../nytimes/authors_demographics.csv\")"
   ]
  },
  {
   "cell_type": "code",
   "execution_count": null,
   "id": "fe8bf169-dc76-42cf-8b1d-c616252d1d13",
   "metadata": {},
   "outputs": [],
   "source": [
    "author_demo.head()"
   ]
  },
  {
   "cell_type": "code",
   "execution_count": null,
   "id": "0c7bc48e-2eaf-444f-9210-f394a9ae47b9",
   "metadata": {},
   "outputs": [],
   "source": [
    "author_demo = author_demo.replace('NaN', pd.NA)"
   ]
  },
  {
   "cell_type": "code",
   "execution_count": null,
   "id": "fd0dcfe0-0d8b-4ca9-b6e7-c281cada22c3",
   "metadata": {},
   "outputs": [],
   "source": [
    "author_demo.head()"
   ]
  },
  {
   "cell_type": "code",
   "execution_count": null,
   "id": "271db348-6a50-451a-8f8e-612c95bee494",
   "metadata": {},
   "outputs": [],
   "source": []
  }
 ],
 "metadata": {
  "kernelspec": {
   "display_name": "Python 3 (ipykernel)",
   "language": "python",
   "name": "python3"
  },
  "language_info": {
   "codemirror_mode": {
    "name": "ipython",
    "version": 3
   },
   "file_extension": ".py",
   "mimetype": "text/x-python",
   "name": "python",
   "nbconvert_exporter": "python",
   "pygments_lexer": "ipython3",
   "version": "3.12.7"
  }
 },
 "nbformat": 4,
 "nbformat_minor": 5
}
