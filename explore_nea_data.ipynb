{
 "cells": [
  {
   "cell_type": "code",
   "execution_count": 1,
   "id": "aa5e843e-dc4c-471f-a8b2-e36953fab831",
   "metadata": {
    "ExecuteTime": {
     "end_time": "2025-01-22T20:31:12.494391Z",
     "start_time": "2025-01-22T20:31:11.859596Z"
    }
   },
   "outputs": [],
   "source": [
    "import pandas as pd\n",
    "import numpy as np\n",
    "import matplotlib.pyplot as plt\n",
    "import openai"
   ]
  },
  {
   "cell_type": "code",
   "execution_count": null,
   "id": "e05155ba-424f-4d8c-b8b6-99eb1972b57c",
   "metadata": {
    "jupyter": {
     "is_executing": true
    }
   },
   "outputs": [],
   "source": [
    "df = pd.read_csv(\"Post45_NEAData_Final.csv\")"
   ]
  },
  {
   "cell_type": "code",
   "execution_count": null,
   "id": "a58a0867-49d8-44c8-b5ca-77eed76dbf8b",
   "metadata": {
    "jupyter": {
     "is_executing": true
    }
   },
   "outputs": [],
   "source": [
    "df.head()"
   ]
  },
  {
   "cell_type": "code",
   "execution_count": null,
   "id": "e36f3374-8440-45d5-bfd3-b5ae82181e35",
   "metadata": {
    "jupyter": {
     "is_executing": true
    }
   },
   "outputs": [],
   "source": [
    "# how many don't have gender listed?\n",
    "df[df.gender == \"unknown\"]"
   ]
  },
  {
   "cell_type": "code",
   "execution_count": null,
   "id": "9b330ab1-02cd-40cc-b930-cc0347f222a1",
   "metadata": {
    "jupyter": {
     "is_executing": true
    }
   },
   "outputs": [],
   "source": [
    "# how many don't have a race or ethnicity\n",
    "print(\"No race\", len(df[df.race_ethnicity == \"uniden\"]))\n",
    "print(\"Race\", len(df[df.race_ethnicity != \"uniden\"]))"
   ]
  },
  {
   "cell_type": "code",
   "execution_count": null,
   "id": "997a45ca-818f-4419-bfb7-0dbd969570e2",
   "metadata": {
    "jupyter": {
     "is_executing": true
    }
   },
   "outputs": [],
   "source": [
    "df.race_ethnicity.value_counts()"
   ]
  },
  {
   "cell_type": "code",
   "execution_count": null,
   "id": "184c7fdf-88cb-4307-8888-1e97468c5b53",
   "metadata": {
    "jupyter": {
     "is_executing": true
    }
   },
   "outputs": [],
   "source": [
    "df.race_ethnicity = df.race_ethnicity.replace(\"uniden / \",\"\", regex = True)"
   ]
  },
  {
   "cell_type": "code",
   "execution_count": null,
   "id": "b859b729-1d83-409b-b3be-785777619c3b",
   "metadata": {
    "jupyter": {
     "is_executing": true
    }
   },
   "outputs": [],
   "source": [
    "r_e = df.race_ethnicity.value_counts()\n",
    "r_e"
   ]
  },
  {
   "cell_type": "code",
   "execution_count": null,
   "id": "b530fbbd-228f-4dbd-983a-1a8ffb8a8e1f",
   "metadata": {
    "ExecuteTime": {
     "end_time": "2025-01-22T16:58:14.567356Z",
     "start_time": "2025-01-22T16:58:14.424813Z"
    }
   },
   "outputs": [],
   "source": [
    "race = r_e[1:10]\n",
    "race.plot.bar(title = \"Race of NEA Creative Writing Recipients\")"
   ]
  },
  {
   "cell_type": "code",
   "execution_count": null,
   "id": "e0c832b4-9560-4be9-8c1c-4bae5bf45fc9",
   "metadata": {
    "ExecuteTime": {
     "end_time": "2025-01-22T16:58:15.123280Z",
     "start_time": "2025-01-22T16:58:15.119691Z"
    }
   },
   "outputs": [],
   "source": [
    "ba = df.ba.value_counts()[:11]\n",
    "ba"
   ]
  },
  {
   "cell_type": "code",
   "execution_count": null,
   "id": "4eed1e89-8faf-4237-8263-f0ed2d92c51e",
   "metadata": {
    "ExecuteTime": {
     "end_time": "2025-01-22T16:58:17.315210Z",
     "start_time": "2025-01-22T16:58:17.303351Z"
    }
   },
   "outputs": [],
   "source": [
    "print(\"ba listed \",len(df) - df.ba.isna().sum())\n",
    "print(\"ba listed \", ((len(df) - df.ba.isna().sum())/len(df))*100,\"%\")"
   ]
  },
  {
   "cell_type": "code",
   "execution_count": null,
   "id": "901ad4a5-f1c8-4a71-81a6-207e94db8f60",
   "metadata": {
    "ExecuteTime": {
     "end_time": "2025-01-22T16:58:18.705377Z",
     "start_time": "2025-01-22T16:58:18.645716Z"
    }
   },
   "outputs": [],
   "source": [
    "ba.plot.bar()"
   ]
  },
  {
   "cell_type": "code",
   "execution_count": null,
   "id": "78dc9118-c045-401c-a2f5-712a05c69e56",
   "metadata": {
    "ExecuteTime": {
     "end_time": "2025-01-22T16:58:19.887673Z",
     "start_time": "2025-01-22T16:58:19.882836Z"
    }
   },
   "outputs": [],
   "source": [
    "ivies = [\"Brown University\", \"Columbia University\", \"Cornell University\", \"Dartmouth College\", \n",
    "\"Harvard University\", \"University of Pennsylvania\", \"Princeton University\", \"Yale University\"]\n",
    "\n",
    "df[\"Ivy\"] = df.ba.isin(ivies)\n",
    "df.Ivy.value_counts()"
   ]
  },
  {
   "cell_type": "code",
   "execution_count": null,
   "id": "eb6a18e6-9f7f-466e-8370-09201da6d254",
   "metadata": {
    "ExecuteTime": {
     "end_time": "2025-01-22T16:58:21.274983Z",
     "start_time": "2025-01-22T16:58:21.247289Z"
    }
   },
   "outputs": [],
   "source": [
    "ivies = [\"Brown University\", \"Columbia University\", \"Cornell University\", \"Dartmouth College\", \n",
    "\"Harvard University\", \"University of Pennsylvania\", \"Princeton University\", \"Yale University\"]\n",
    "tier_1_schools = [\n",
    "    \"Stanford University\",\n",
    "    \"Massachusetts Institute of Technology (MIT)\",\n",
    "    \"California Institute of Technology (Caltech)\",\n",
    "    \"University of Chicago\",\n",
    "    \"Duke University\",\n",
    "    \"Northwestern University\",\n",
    "    \"University of California, Berkeley (UC Berkeley)\",\n",
    "    \"University of California, Los Angeles (UCLA)\",\n",
    "    \"University of Michigan, Ann Arbor\",\n",
    "    \"University of Texas at Austin\",\n",
    "    \"Carnegie Mellon University\",\n",
    "    \"University of Southern California (USC)\",\n",
    "    \"Johns Hopkins University\",\n",
    "    \"Georgia Institute of Technology (Georgia Tech)\",\n",
    "    \"University of North Carolina at Chapel Hill\"\n",
    "]\n",
    "\n",
    "tier_2_schools = [\n",
    "    \"University of Washington\",\n",
    "    \"University of Wisconsin-Madison\",\n",
    "    \"University of Illinois Urbana-Champaign\",\n",
    "    \"University of Florida\",\n",
    "    \"Pennsylvania State University (Penn State)\",\n",
    "    \"Ohio State University\",\n",
    "    \"Purdue University\",\n",
    "    \"University of Maryland, College Park\",\n",
    "    \"Texas A&M University\",\n",
    "    \"University of Minnesota, Twin Cities\",\n",
    "    \"University of Virginia\",\n",
    "    \"University of California, San Diego (UCSD)\",\n",
    "    \"University of California, Davis (UC Davis)\",\n",
    "    \"Boston University\",\n",
    "    \"University of Rochester\",\n",
    "    \"Michigan State University\",\n",
    "    \"Indiana University Bloomington\",\n",
    "    \"University of Colorado Boulder\",\n",
    "    \"University of Arizona\",\n",
    "    \"University of Utah\"\n",
    "]\n",
    "\n",
    "top_schools = ivies + tier_1_schools\n",
    "\n",
    "# Define a function to fill the new column based on string matching\n",
    "def fill_new_column(row):\n",
    "    if row['ba'] in ivies:\n",
    "        return \"Ivy League\"\n",
    "    elif row['ba'] in tier_1_schools:\n",
    "        return \"Tier 1\"\n",
    "    elif row['ba'] in tier_2_schools:\n",
    "        return \"Tier 2\"\n",
    "    else:\n",
    "        return \"not_found\"\n",
    "\n",
    "# Apply the function to create a new column\n",
    "df['Tier'] = df.apply(fill_new_column, axis=1)\n",
    "\n",
    "df.Tier.value_counts()"
   ]
  },
  {
   "cell_type": "code",
   "execution_count": null,
   "id": "e5048980-5ad2-496b-841a-1ee81c8aade7",
   "metadata": {
    "ExecuteTime": {
     "end_time": "2025-01-22T16:58:22.990215Z",
     "start_time": "2025-01-22T16:58:22.971854Z"
    }
   },
   "outputs": [],
   "source": [
    "top_schools = ivies + tier_1_schools\n",
    "\n",
    "# Define a function to fill the new column based on string matching\n",
    "def fill_new_column_top(row):\n",
    "    if row['ba'] in top_schools:\n",
    "        return \"Top School\"\n",
    "    else:\n",
    "        return \"Other\"\n",
    "        \n",
    "# Apply the function to create a new column\n",
    "df['Top_schools'] = df.apply(fill_new_column_top, axis=1)\n",
    "\n",
    "top_schools = df.Top_schools.value_counts(normalize=True)\n",
    "top_schools"
   ]
  },
  {
   "cell_type": "code",
   "execution_count": null,
   "id": "a8da5c51-6515-4c51-a327-7f88606ce4f9",
   "metadata": {
    "ExecuteTime": {
     "end_time": "2025-01-22T16:58:24.066231Z",
     "start_time": "2025-01-22T16:58:24.033769Z"
    }
   },
   "outputs": [],
   "source": [
    "top_schools.plot.pie()"
   ]
  },
  {
   "cell_type": "markdown",
   "id": "960580c7-2581-4686-9afc-9606e21b8b91",
   "metadata": {},
   "source": [
    "# NYTimes"
   ]
  },
  {
   "cell_type": "code",
   "execution_count": 2,
   "id": "cc314b6d-0079-4667-acff-3ec347a5345b",
   "metadata": {
    "ExecuteTime": {
     "end_time": "2025-01-22T20:26:44.821840Z",
     "start_time": "2025-01-22T20:26:44.776537Z"
    }
   },
   "outputs": [
    {
     "data": {
      "text/html": [
       "<div>\n",
       "<style scoped>\n",
       "    .dataframe tbody tr th:only-of-type {\n",
       "        vertical-align: middle;\n",
       "    }\n",
       "\n",
       "    .dataframe tbody tr th {\n",
       "        vertical-align: top;\n",
       "    }\n",
       "\n",
       "    .dataframe thead th {\n",
       "        text-align: right;\n",
       "    }\n",
       "</style>\n",
       "<table border=\"1\" class=\"dataframe\">\n",
       "  <thead>\n",
       "    <tr style=\"text-align: right;\">\n",
       "      <th></th>\n",
       "      <th>year</th>\n",
       "      <th>week</th>\n",
       "      <th>rank</th>\n",
       "      <th>title_id</th>\n",
       "      <th>title</th>\n",
       "      <th>author</th>\n",
       "    </tr>\n",
       "  </thead>\n",
       "  <tbody>\n",
       "    <tr>\n",
       "      <th>0</th>\n",
       "      <td>1931</td>\n",
       "      <td>1931-10-12</td>\n",
       "      <td>1</td>\n",
       "      <td>6477</td>\n",
       "      <td>THE TEN COMMANDMENTS</td>\n",
       "      <td>Warwick Deeping</td>\n",
       "    </tr>\n",
       "    <tr>\n",
       "      <th>1</th>\n",
       "      <td>1931</td>\n",
       "      <td>1931-10-12</td>\n",
       "      <td>2</td>\n",
       "      <td>1808</td>\n",
       "      <td>FINCHE'S FORTUNE</td>\n",
       "      <td>Mazo de la Roche</td>\n",
       "    </tr>\n",
       "    <tr>\n",
       "      <th>2</th>\n",
       "      <td>1931</td>\n",
       "      <td>1931-10-12</td>\n",
       "      <td>3</td>\n",
       "      <td>5304</td>\n",
       "      <td>THE GOOD EARTH</td>\n",
       "      <td>Pearl S. Buck</td>\n",
       "    </tr>\n",
       "    <tr>\n",
       "      <th>3</th>\n",
       "      <td>1931</td>\n",
       "      <td>1931-10-12</td>\n",
       "      <td>4</td>\n",
       "      <td>4038</td>\n",
       "      <td>SHADOWS ON THE ROCK</td>\n",
       "      <td>Willa Cather</td>\n",
       "    </tr>\n",
       "    <tr>\n",
       "      <th>4</th>\n",
       "      <td>1931</td>\n",
       "      <td>1931-10-12</td>\n",
       "      <td>5</td>\n",
       "      <td>3946</td>\n",
       "      <td>SCARMOUCHE THE KING MAKER</td>\n",
       "      <td>Rafael Sabatini</td>\n",
       "    </tr>\n",
       "  </tbody>\n",
       "</table>\n",
       "</div>"
      ],
      "text/plain": [
       "   year        week  rank  title_id                      title  \\\n",
       "0  1931  1931-10-12     1      6477       THE TEN COMMANDMENTS   \n",
       "1  1931  1931-10-12     2      1808           FINCHE'S FORTUNE   \n",
       "2  1931  1931-10-12     3      5304             THE GOOD EARTH   \n",
       "3  1931  1931-10-12     4      4038        SHADOWS ON THE ROCK   \n",
       "4  1931  1931-10-12     5      3946  SCARMOUCHE THE KING MAKER   \n",
       "\n",
       "             author  \n",
       "0   Warwick Deeping  \n",
       "1  Mazo de la Roche  \n",
       "2     Pearl S. Buck  \n",
       "3      Willa Cather  \n",
       "4   Rafael Sabatini  "
      ]
     },
     "execution_count": 2,
     "metadata": {},
     "output_type": "execute_result"
    }
   ],
   "source": [
    "nyt = pd.read_csv(\"nyt_full.tsv\", sep = '\\t')\n",
    "nyt.head()"
   ]
  },
  {
   "cell_type": "code",
   "execution_count": 3,
   "id": "a620bba7-b085-4ac7-99a8-be29f9a96527",
   "metadata": {
    "ExecuteTime": {
     "end_time": "2025-01-22T20:26:46.920178Z",
     "start_time": "2025-01-22T20:26:46.914508Z"
    }
   },
   "outputs": [
    {
     "data": {
      "text/plain": [
       "2210"
      ]
     },
     "execution_count": 3,
     "metadata": {},
     "output_type": "execute_result"
    }
   ],
   "source": [
    "nyt.author.nunique()"
   ]
  },
  {
   "cell_type": "code",
   "execution_count": 66,
   "id": "a026e4fc-0c2a-4474-aaf3-a9d2315977bb",
   "metadata": {
    "ExecuteTime": {
     "end_time": "2025-01-22T20:26:47.790651Z",
     "start_time": "2025-01-22T20:26:47.787777Z"
    }
   },
   "outputs": [
    {
     "name": "stdout",
     "output_type": "stream",
     "text": [
      "0                        Warwick Deeping\n",
      "1                       Mazo de la Roche\n",
      "2                          Pearl S. Buck\n",
      "3                           Willa Cather\n",
      "4                        Rafael Sabatini\n",
      "                      ...               \n",
      "60381                             Halsey\n",
      "60382                       Brit Bennett\n",
      "60383                        Delia Owens\n",
      "60384                    Fredrik Backman\n",
      "60385    Clive Cussler and Boyd Morrison\n",
      "Name: author, Length: 60386, dtype: object\n"
     ]
    }
   ],
   "source": [
    "print(nyt.author)"
   ]
  },
  {
   "cell_type": "code",
   "execution_count": 83,
   "id": "df10f3ab-f9e0-4f54-84fb-133f5223005b",
   "metadata": {},
   "outputs": [],
   "source": [
    "nyt.author = nyt.author.replace(\"written and illustrated by \",\"\", regex = True)"
   ]
  },
  {
   "cell_type": "code",
   "execution_count": 94,
   "id": "9867e440-21d3-40b2-851e-35f0bf4d57fa",
   "metadata": {},
   "outputs": [
    {
     "name": "stdout",
     "output_type": "stream",
     "text": [
      "2406\n",
      "0.03984367237439142\n"
     ]
    }
   ],
   "source": [
    "nyt['check'] = nyt.author.str.contains(' and | with | by', regex = True)\n",
    "print(nyt.check.sum())\n",
    "print(nyt.check.sum()/len(nyt))"
   ]
  },
  {
   "cell_type": "code",
   "execution_count": 95,
   "id": "ea27a587-66d2-4ed2-9c68-8950c5d1e760",
   "metadata": {},
   "outputs": [
    {
     "name": "stdout",
     "output_type": "stream",
     "text": [
      "57980\n",
      "2406\n"
     ]
    }
   ],
   "source": [
    "nyt_no_multi = nyt[nyt.check != True]\n",
    "nyt_multi = nyt[nyt.check == True]\n",
    "print(len(nyt_no_multi))\n",
    "print(len(nyt_multi))"
   ]
  },
  {
   "cell_type": "code",
   "execution_count": 101,
   "id": "1cfabcc8-0664-440c-a4fb-3392d1b83e99",
   "metadata": {},
   "outputs": [
    {
     "name": "stderr",
     "output_type": "stream",
     "text": [
      "/var/folders/p7/4d0x8hyj4mb4xypm89k57lrr0000gn/T/ipykernel_53150/2809466335.py:1: SettingWithCopyWarning: \n",
      "A value is trying to be set on a copy of a slice from a DataFrame.\n",
      "Try using .loc[row_indexer,col_indexer] = value instead\n",
      "\n",
      "See the caveats in the documentation: https://pandas.pydata.org/pandas-docs/stable/user_guide/indexing.html#returning-a-view-versus-a-copy\n",
      "  nyt_multi['edited'] = nyt_multi.author.str.contains('edited', case = False, regex = True)\n"
     ]
    },
    {
     "data": {
      "text/plain": [
       "93"
      ]
     },
     "execution_count": 101,
     "metadata": {},
     "output_type": "execute_result"
    }
   ],
   "source": [
    "nyt_multi['edited'] = nyt_multi.author.str.contains('edited', case = False, regex = True)\n",
    "nyt_edited = nyt_multi[nyt_multi.edited == True]\n",
    "len(nyt_edited)"
   ]
  },
  {
   "cell_type": "code",
   "execution_count": 104,
   "id": "92e482a5-f333-4006-b89f-cfbf9ddd5c9e",
   "metadata": {},
   "outputs": [
    {
     "name": "stdout",
     "output_type": "stream",
     "text": [
      "14\n"
     ]
    },
    {
     "data": {
      "text/plain": [
       "array(['Gideon Wyck, edited by Alexander Laing',\n",
       "       'edited by Somerset Maugham', 'edited by Armin L. Robinson',\n",
       "       'edited by Nicholas Meyer',\n",
       "       'edited by William J. Bennett. Illustrated by Michael Hague',\n",
       "       'Margaret Mitchell. Edited by Debra Freer',\n",
       "       'edited by John Updike and Katrina Kenison',\n",
       "       'edited by Joyce Reardon',\n",
       "       'Hannah Crafts. Edited by Henry Louis Gates Jr',\n",
       "       'J. R. R. Tolkien. Edited by Christopher Tolkien. Illustrated by Alan Lee',\n",
       "       'J. R. R. Tolkien. Edited by Christopher Tolkien',\n",
       "       'edited by Charlaine Harris and Toni L. P. Kelner',\n",
       "       'edited by George R. R. Martin and Gardner Dozois',\n",
       "       'Lucia Berlin, edited by Stephen Emerson'], dtype=object)"
      ]
     },
     "execution_count": 104,
     "metadata": {},
     "output_type": "execute_result"
    }
   ],
   "source": [
    "print(len(nyt_edited.author.unique()))\n",
    "nyt_edited.author.unique()"
   ]
  },
  {
   "cell_type": "code",
   "execution_count": null,
   "id": "8f362499-2a10-4d1f-bbbd-3a16bb9e426b",
   "metadata": {},
   "outputs": [],
   "source": [
    "# if there's an author with editor, remove editor, else treat editor as author \n",
    "nyt_edited['author_alt'] = \n",
    "\n",
    "if name[:10] == 'edited by ':\n",
    "    remove 'edited by ' and transfer rest of string to the 'author_alt' column\n",
    "if name[:10] != 'edited by '\"\n",
    "    "
   ]
  },
  {
   "cell_type": "code",
   "execution_count": 96,
   "id": "e2c813ed-7eac-45b9-ba02-422d2d3ed605",
   "metadata": {},
   "outputs": [
    {
     "name": "stdout",
     "output_type": "stream",
     "text": [
      "181\n"
     ]
    },
    {
     "name": "stderr",
     "output_type": "stream",
     "text": [
      "/var/folders/p7/4d0x8hyj4mb4xypm89k57lrr0000gn/T/ipykernel_53150/476291792.py:1: SettingWithCopyWarning: \n",
      "A value is trying to be set on a copy of a slice from a DataFrame.\n",
      "Try using .loc[row_indexer,col_indexer] = value instead\n",
      "\n",
      "See the caveats in the documentation: https://pandas.pydata.org/pandas-docs/stable/user_guide/indexing.html#returning-a-view-versus-a-copy\n",
      "  nyt_multi['three'] = nyt_multi.author.str.contains(',| with ', regex = True)\n"
     ]
    }
   ],
   "source": [
    "nyt_multi['three'] = nyt_multi.author.str.contains(',| with ', regex = True)\n",
    "print(nyt_multi.three.sum())\n",
    "\n",
    "nyt_two = nyt_multi[nyt_multi.three != True]\n",
    "nyt_three_more = nyt_multi[nyt_multi.three == True]"
   ]
  },
  {
   "cell_type": "code",
   "execution_count": 97,
   "id": "27196ac9-245a-49c4-bf16-2f08973c618d",
   "metadata": {},
   "outputs": [
    {
     "data": {
      "text/plain": [
       "array(['Charles Nordhoff and James N. Hall',\n",
       "       'Charles Nordloff and James Norman Hall',\n",
       "       'Dennis Wheatley and J. H. Links', 'edited by Somerset Maugham',\n",
       "       'Charles Nordhoff and James Norman Hall',\n",
       "       'edited by Armin L. Robinson', 'Odell Shepard and Willard Shepard',\n",
       "       '? by Isabel Bolton', 'Benedict Freedman and Nancy Freedman',\n",
       "       'Joseph Auslander and Audrey Wurdemann',\n",
       "       'James Street and James Childers',\n",
       "       'Harnett T. Kane and Victor Leclerc', 'Marrijane and Joseph Hayes',\n",
       "       'Dorothy Erskine and Patrick Dennis',\n",
       "       'William J. Lederer and Eugene Burdick',\n",
       "       'Arthur Quiller-Couch and Daphne du Maurier',\n",
       "       'Fletcher Knebel and Charles W. Bailey II',\n",
       "       'Eugene Burdick and Harvey Wheeler',\n",
       "       'Terry Southern and Mason Hoffenberg', 'edited by Nicholas Meyer',\n",
       "       'J.D. Gilman and John Clive', 'Marvin Kalb and Ted Koppel',\n",
       "       'General Sir John Hackett and Other Top-ranking NATO Generals and Advisors',\n",
       "       'Arnaud de Borchgrave and Robert Moss',\n",
       "       'Larry Collins and Dominique Lapierre', 'adapted by Joan D. Vinge',\n",
       "       'created by Bill Adler and written by Thomas Chastain',\n",
       "       'Robert Moss and Arnaud de Borchgrave',\n",
       "       'Whitley Strieber and James W. Kunetka',\n",
       "       'Stephen King and Peter Straub', 'Larry Niven and Jerry Pournelle',\n",
       "       '! by Terry Brooks', 'Walter J. Boyne and Steven L. Thompson',\n",
       "       'compiled by Mary S. Lovell',\n",
       "       'Raymond Chandler and Robert B. Parker',\n",
       "       'Judith and Garfield Reeves-Stevens',\n",
       "       'Barry Lopez. Illustrated by Tom Pohrt',\n",
       "       'Michael Dorris and Louise Erdrich',\n",
       "       'Margaret Weis and Tracy Hickman',\n",
       "       'Arthur C. Clarke and Gentry Lee', 'Janet and Allan Ahlberg',\n",
       "       '? by Jimmy Buffett', 'adapted by Don Ferguson',\n",
       "       'Richard Marcinko and John Weisman', 'David and Leigh Eddings',\n",
       "       'edited by William J. Bennett. Illustrated by Michael Hague',\n",
       "       'Tom Hegg. Illustrated by Warren Hanson',\n",
       "       'Alex Walsh. Illustrated by Jesse Clay',\n",
       "       'Margaret Mitchell. Edited by Debra Freer',\n",
       "       'Dr. Seuss. Illustrated by Steve Johnson and Lou Fancher',\n",
       "       '! by Jackie Collins', 'L. Ron Hubbard and Kevin J. Anderson',\n",
       "       '! by Fannie Flagg',\n",
       "       'Jamie Lee Curtis. Illustrated by Laura Cornell',\n",
       "       'Clement Moore. Illustrated by Jan Brett',\n",
       "       'Tim LaHaye and Jerry B. Jenkins',\n",
       "       'Maria Shriver. Illustrated by Sandra Speidel',\n",
       "       'edited by John Updike and Katrina Kenison',\n",
       "       'L. Ron Hubbard and Dave Wolverton',\n",
       "       'Brian Herbert and Kevin J. Anderson',\n",
       "       'translated by Seamus Heaney',\n",
       "       'Mary Higgins Clark and Carol Higgins Clark',\n",
       "       'Rita Mae Brown and Sneaky Pie Brown',\n",
       "       'selected by Caroline Kennedy',\n",
       "       'Mario Puzo. Completed by Carol Gino', 'edited by Joyce Reardon',\n",
       "       'Emma McLaughlin and Nicola Kraus',\n",
       "       'Hannah Crafts. Edited by Henry Louis Gates Jr',\n",
       "       'James Patterson and Peter de Jonge',\n",
       "       'James Patterson and Andrew Gross',\n",
       "       'Newt Gingrich and William R. Forstchen',\n",
       "       'Oliver North and Joe Musser', 'Nora Roberts and J. D. Robb',\n",
       "       'Tim LaHaye and Greg Dinallo', '! by W. E. B. Griffin',\n",
       "       '? by Susan Elizabeth Phillips', '? by Sophie Kinsella',\n",
       "       'Ian Caldwell and Dustin Thomason',\n",
       "       'Douglas Preston and Lincoln Child', 'Tim LaHaye and Bob Phillips',\n",
       "       '? by Sidney Sheldon', 'Faye and Jonathan Kellerman',\n",
       "       'Clive Cussler and Dirk Cussler',\n",
       "       'James Patterson and Howard Roughan',\n",
       "       'James Patterson and Maxine Paetro', '! by Terry Pratchett',\n",
       "       'W.E.B. Griffin and William E. Butterworth IV',\n",
       "       'Anne McCaffrey and Todd McCaffrey',\n",
       "       'James Patterson and Michael Ledwidge',\n",
       "       'J. R. R. Tolkien. Edited by Christopher Tolkien. Illustrated by Alan Lee',\n",
       "       'W. E. B. Griffin and William E. Butterworth IV',\n",
       "       'Dick Francis and Felix Francis', 'Michael Reaves and Steve Perry',\n",
       "       'Amanda Goldberg and Ruthanna Khalighi Hopper',\n",
       "       'James Patterson and Gabrielle Charbonnet',\n",
       "       'Iris Johansen and Roy Johansen',\n",
       "       'Mary Ann Shaffer and Annie Barrows',\n",
       "       'Clive Cussler and Jack Du Brul',\n",
       "       'J. R. R. Tolkien. Edited by Christopher Tolkien',\n",
       "       'Clive Cussler and Paul Kemprecos',\n",
       "       'Guillermo del Toro and Chuck Hogan',\n",
       "       'James Patterson and Richard DiLallo',\n",
       "       'Robert Jordan and Brandon Sanderson',\n",
       "       'Clive Cussler and Justin Scott',\n",
       "       'edited by Charlaine Harris and Toni L. P. Kelner',\n",
       "       'James Patterson and Liza Marklund',\n",
       "       'Anders Roslund and Borge Hellstrom',\n",
       "       'Tom Clancy and Grant Blackwood',\n",
       "       'James Patterson and Neil McMahon',\n",
       "       'James Patterson and Marshall Karp',\n",
       "       'Clive Cussler and Graham Brown',\n",
       "       'Michael Crichton and Richard Preston',\n",
       "       'Janet Evanovich and Dorien Kelly',\n",
       "       'James Patterson and Mark Sullivan',\n",
       "       'James Patterson and David Ellis',\n",
       "       'Terry Pratchett and Stephen Baxter',\n",
       "       'Orson Scott Card and Aaron Johnston',\n",
       "       'Clive Cussler and Thomas Perry',\n",
       "       'James Rollins and Rebecca Cantrell',\n",
       "       'Janet Evanovich and Lee Goldberg',\n",
       "       'Catherine Coulter and J.\\u2009T. Ellison',\n",
       "       'Robert Kirkman and Jay Bonansinga',\n",
       "       'James Patterson and Emily Raymond',\n",
       "       'James Rollins and Grant Blackwood',\n",
       "       'edited by George R. R. Martin and Gardner Dozois',\n",
       "       'Clive Cussler and Russell Blake',\n",
       "       'Jonathan Kellerman and Jesse Kellerman',\n",
       "       'Mary Higgins Clark and Alafair Burke',\n",
       "       'James Patterson and Peter De Jonge',\n",
       "       'Clive Cussler and Boyd Morrison',\n",
       "       'Janet Evanovich and Phoef Sutton',\n",
       "       'Catherine Coulter and J.T. Ellison', 'Vince Flynn and Kyle Mills',\n",
       "       'John Sandford and Ctein', 'Joseph Fink and Jeffrey Cranor',\n",
       "       'Brad Meltzer and Tod Goldberg', 'Stuart Woods and Parnell Hall',\n",
       "       'Clive Cussler and Robin Burcell',\n",
       "       'W.E.B. Griffin and William E. Butterworth',\n",
       "       'James Patterson and Candice Fox',\n",
       "       'Catherine Coulter and J. T. Ellison',\n",
       "       'Stephen King and Richard Chizmar',\n",
       "       'Neal Stephenson and Nicole Galland',\n",
       "       'Elizabeth Peters and Joan Hess',\n",
       "       'James Patterson and James O. Born', 'Stephen King and Owen King',\n",
       "       'Greer Hendricks and Sarah Pekkanen',\n",
       "       'Guillermo del Toro and Daniel Kraus',\n",
       "       'Bill Clinton and James Patterson',\n",
       "       'James Patterson and Andrew Bourelle',\n",
       "       'James Patterson and Nancy Allen',\n",
       "       'Khaled Hosseini. Illustrated by Dan Williams',\n",
       "       'James Patterson and Max DiLallo',\n",
       "       'James Patterson and Brendan DuBois',\n",
       "       'Janet Evanovich and Peter Evanovich',\n",
       "       'Mark Greaney and Hunter Ripley Rawlings IV',\n",
       "       'Nelson DeMille and Alex DeMille', 'Jim Carrey and Dana Vachon',\n",
       "       'James Patterson and Chris Tebbetts',\n",
       "       'James Patterson and J.D. Barker', 'Lee Child and Andrew Child',\n",
       "       'James Patterson and Shan Serafin'], dtype=object)"
      ]
     },
     "execution_count": 97,
     "metadata": {},
     "output_type": "execute_result"
    }
   ],
   "source": [
    "nyt_two.author.unique()"
   ]
  },
  {
   "cell_type": "code",
   "execution_count": null,
   "id": "f32388b1-8c0d-4428-84ba-f90c441eeff2",
   "metadata": {},
   "outputs": [],
   "source": [
    "# sharing last name (i.e., Janet and Allan Ahlberg\n",
    "\n",
    "# same author different spelling (i.e., James Norman Hall or James N. Hall)\n",
    "\n",
    "# extraneous words (i.e. 'Edited by ', 'Illustrated by '\n"
   ]
  },
  {
   "cell_type": "code",
   "execution_count": 5,
   "id": "366650bf-bb5e-41b9-b25e-6dea4a773b59",
   "metadata": {
    "ExecuteTime": {
     "end_time": "2025-01-22T20:26:48.528221Z",
     "start_time": "2025-01-22T20:26:48.519257Z"
    }
   },
   "outputs": [],
   "source": [
    "nyt_authors = nyt.author.unique().tolist()\n",
    "\n",
    "# Because GPT can only do so many at once\n",
    "import itertools as it\n",
    "\n",
    "cnt = 0\n",
    "auth50 = list(it.batched(nyt_authors, 50))\n",
    "for item in auth50:\n",
    "    cnt+=1\n",
    "    c = str(cnt)\n",
    "    with open(\"nytimes_auth/authors\"+c+\".txt\", \"w\") as output:\n",
    "        output.write(str(item))\n"
   ]
  },
  {
   "cell_type": "markdown",
   "id": "8ed1d9ce-e839-4f0f-82bb-0da8da5ff232",
   "metadata": {},
   "source": [
    "# Use GPT to gather data about the authors"
   ]
  },
  {
   "cell_type": "code",
   "execution_count": 20,
   "id": "6bf7fd10-3fe6-45c6-bbd9-337b99f90eb4",
   "metadata": {
    "ExecuteTime": {
     "end_time": "2025-01-22T20:28:49.854810Z",
     "start_time": "2025-01-22T20:28:49.851509Z"
    }
   },
   "outputs": [
    {
     "name": "stdout",
     "output_type": "stream",
     "text": [
      "['Warwick Deeping', 'Mazo de la Roche', 'Pearl S. Buck', 'Willa Cather', 'Rafael Sabatini']\n"
     ]
    },
    {
     "data": {
      "text/html": [
       "<div>\n",
       "<style scoped>\n",
       "    .dataframe tbody tr th:only-of-type {\n",
       "        vertical-align: middle;\n",
       "    }\n",
       "\n",
       "    .dataframe tbody tr th {\n",
       "        vertical-align: top;\n",
       "    }\n",
       "\n",
       "    .dataframe thead th {\n",
       "        text-align: right;\n",
       "    }\n",
       "</style>\n",
       "<table border=\"1\" class=\"dataframe\">\n",
       "  <thead>\n",
       "    <tr style=\"text-align: right;\">\n",
       "      <th></th>\n",
       "      <th>year</th>\n",
       "      <th>week</th>\n",
       "      <th>rank</th>\n",
       "      <th>title_id</th>\n",
       "      <th>title</th>\n",
       "      <th>author</th>\n",
       "    </tr>\n",
       "  </thead>\n",
       "  <tbody>\n",
       "    <tr>\n",
       "      <th>0</th>\n",
       "      <td>1931</td>\n",
       "      <td>1931-10-12</td>\n",
       "      <td>1</td>\n",
       "      <td>6477</td>\n",
       "      <td>THE TEN COMMANDMENTS</td>\n",
       "      <td>Warwick Deeping</td>\n",
       "    </tr>\n",
       "    <tr>\n",
       "      <th>1</th>\n",
       "      <td>1931</td>\n",
       "      <td>1931-10-12</td>\n",
       "      <td>2</td>\n",
       "      <td>1808</td>\n",
       "      <td>FINCHE'S FORTUNE</td>\n",
       "      <td>Mazo de la Roche</td>\n",
       "    </tr>\n",
       "    <tr>\n",
       "      <th>2</th>\n",
       "      <td>1931</td>\n",
       "      <td>1931-10-12</td>\n",
       "      <td>3</td>\n",
       "      <td>5304</td>\n",
       "      <td>THE GOOD EARTH</td>\n",
       "      <td>Pearl S. Buck</td>\n",
       "    </tr>\n",
       "    <tr>\n",
       "      <th>3</th>\n",
       "      <td>1931</td>\n",
       "      <td>1931-10-12</td>\n",
       "      <td>4</td>\n",
       "      <td>4038</td>\n",
       "      <td>SHADOWS ON THE ROCK</td>\n",
       "      <td>Willa Cather</td>\n",
       "    </tr>\n",
       "    <tr>\n",
       "      <th>4</th>\n",
       "      <td>1931</td>\n",
       "      <td>1931-10-12</td>\n",
       "      <td>5</td>\n",
       "      <td>3946</td>\n",
       "      <td>SCARMOUCHE THE KING MAKER</td>\n",
       "      <td>Rafael Sabatini</td>\n",
       "    </tr>\n",
       "  </tbody>\n",
       "</table>\n",
       "</div>"
      ],
      "text/plain": [
       "   year        week  rank  title_id                      title  \\\n",
       "0  1931  1931-10-12     1      6477       THE TEN COMMANDMENTS   \n",
       "1  1931  1931-10-12     2      1808           FINCHE'S FORTUNE   \n",
       "2  1931  1931-10-12     3      5304             THE GOOD EARTH   \n",
       "3  1931  1931-10-12     4      4038        SHADOWS ON THE ROCK   \n",
       "4  1931  1931-10-12     5      3946  SCARMOUCHE THE KING MAKER   \n",
       "\n",
       "             author  \n",
       "0   Warwick Deeping  \n",
       "1  Mazo de la Roche  \n",
       "2     Pearl S. Buck  \n",
       "3      Willa Cather  \n",
       "4   Rafael Sabatini  "
      ]
     },
     "execution_count": 20,
     "metadata": {},
     "output_type": "execute_result"
    }
   ],
   "source": [
    "nyt_authors_short = nyt_authors[:5]\n",
    "print(nyt_authors_short)\n",
    "nyt_short = nyt[:5]\n",
    "nyt_short"
   ]
  },
  {
   "cell_type": "code",
   "execution_count": 44,
   "id": "a34dccb179a7919b",
   "metadata": {
    "ExecuteTime": {
     "end_time": "2025-01-22T20:29:30.846706Z",
     "start_time": "2025-01-22T20:29:30.832694Z"
    }
   },
   "outputs": [
    {
     "name": "stdout",
     "output_type": "stream",
     "text": [
      "[['Warwick Deeping', ' 1877', ' 1950', ' British', ' N/A', ' N/A'], ['Mazo de la Roche', ' 1879', ' 1961', ' White', \" Bachelor's Degree\", ' University of Toronto'], ['Pearl S. Buck', ' 1892', ' 1973', ' Caucasian', \" Master's Degree\", ' Cornell University'], ['Willa Cather', ' 1873', ' 1947', ' Caucasian', \" Bachelor's Degree\", ' University of Nebraska-Lincoln'], ['Rafael Sabatini', ' 1875', ' 1950', ' Italian', ' N/A', ' N/A']]\n"
     ]
    }
   ],
   "source": [
    "myapikey = open('my_gpt_apikey.txt').readline().rstrip()\n",
    "\n",
    "client = openai.OpenAI(api_key = myapikey)\n",
    "\n",
    "output = []\n",
    "for author in nyt_authors_short:\n",
    "    completion = client.chat.completions.create(\n",
    "        model=\"gpt-4o-mini\",\n",
    "        messages=[\n",
    "            {\"role\": \"system\", \"content\": \"\"\"You are a literary historian. \n",
    "            You reply with only the requested information, not a complete sentence, and no headers. \n",
    "            You must include the name of the author in your response. If you do not know information, fill it in with None.\n",
    "            If an author is still living, fill in the information with N/A.\n",
    "            For example: Chimamanda Ngozi Adichie, 1977, N/A, Nigerian, Master's Degree, Johns Hopkins University\"\"\"},\n",
    "            {\n",
    "                \"role\": \"user\",\n",
    "                \"content\": \"\"\"What is the birth year, death year, race/ethnicity, highest level of education, and \n",
    "                college or university of \"\"\"+author\n",
    "            }\n",
    "        ]\n",
    "    )\n",
    "    my_response = completion.choices[0].message.content\n",
    "    response_list = my_response.split(',')\n",
    "    output.append(response_list)\n",
    "\n",
    "\n",
    "\n",
    "print(output)"
   ]
  },
  {
   "cell_type": "code",
   "execution_count": 46,
   "id": "d2cfa9fb-1081-4514-abf2-2122dd490007",
   "metadata": {
    "ExecuteTime": {
     "end_time": "2025-01-22T18:12:21.595971Z",
     "start_time": "2025-01-22T18:12:21.592777Z"
    }
   },
   "outputs": [
    {
     "data": {
      "text/html": [
       "<div>\n",
       "<style scoped>\n",
       "    .dataframe tbody tr th:only-of-type {\n",
       "        vertical-align: middle;\n",
       "    }\n",
       "\n",
       "    .dataframe tbody tr th {\n",
       "        vertical-align: top;\n",
       "    }\n",
       "\n",
       "    .dataframe thead th {\n",
       "        text-align: right;\n",
       "    }\n",
       "</style>\n",
       "<table border=\"1\" class=\"dataframe\">\n",
       "  <thead>\n",
       "    <tr style=\"text-align: right;\">\n",
       "      <th></th>\n",
       "      <th>Name</th>\n",
       "      <th>Birth</th>\n",
       "      <th>Death</th>\n",
       "      <th>Race/Eth</th>\n",
       "      <th>Education</th>\n",
       "      <th>Institution</th>\n",
       "    </tr>\n",
       "  </thead>\n",
       "  <tbody>\n",
       "    <tr>\n",
       "      <th>0</th>\n",
       "      <td>Warwick Deeping</td>\n",
       "      <td>1877</td>\n",
       "      <td>1950</td>\n",
       "      <td>British</td>\n",
       "      <td>N/A</td>\n",
       "      <td>N/A</td>\n",
       "    </tr>\n",
       "    <tr>\n",
       "      <th>1</th>\n",
       "      <td>Mazo de la Roche</td>\n",
       "      <td>1879</td>\n",
       "      <td>1961</td>\n",
       "      <td>White</td>\n",
       "      <td>Bachelor's Degree</td>\n",
       "      <td>University of Toronto</td>\n",
       "    </tr>\n",
       "    <tr>\n",
       "      <th>2</th>\n",
       "      <td>Pearl S. Buck</td>\n",
       "      <td>1892</td>\n",
       "      <td>1973</td>\n",
       "      <td>Caucasian</td>\n",
       "      <td>Master's Degree</td>\n",
       "      <td>Cornell University</td>\n",
       "    </tr>\n",
       "    <tr>\n",
       "      <th>3</th>\n",
       "      <td>Willa Cather</td>\n",
       "      <td>1873</td>\n",
       "      <td>1947</td>\n",
       "      <td>Caucasian</td>\n",
       "      <td>Bachelor's Degree</td>\n",
       "      <td>University of Nebraska-Lincoln</td>\n",
       "    </tr>\n",
       "    <tr>\n",
       "      <th>4</th>\n",
       "      <td>Rafael Sabatini</td>\n",
       "      <td>1875</td>\n",
       "      <td>1950</td>\n",
       "      <td>Italian</td>\n",
       "      <td>N/A</td>\n",
       "      <td>N/A</td>\n",
       "    </tr>\n",
       "  </tbody>\n",
       "</table>\n",
       "</div>"
      ],
      "text/plain": [
       "               Name  Birth  Death    Race/Eth           Education  \\\n",
       "0   Warwick Deeping   1877   1950     British                 N/A   \n",
       "1  Mazo de la Roche   1879   1961       White   Bachelor's Degree   \n",
       "2     Pearl S. Buck   1892   1973   Caucasian     Master's Degree   \n",
       "3      Willa Cather   1873   1947   Caucasian   Bachelor's Degree   \n",
       "4   Rafael Sabatini   1875   1950     Italian                 N/A   \n",
       "\n",
       "                       Institution  \n",
       "0                              N/A  \n",
       "1            University of Toronto  \n",
       "2               Cornell University  \n",
       "3   University of Nebraska-Lincoln  \n",
       "4                              N/A  "
      ]
     },
     "execution_count": 46,
     "metadata": {},
     "output_type": "execute_result"
    }
   ],
   "source": [
    "nyt_auth_demo = pd.DataFrame(output, columns = ['Name', 'Birth', 'Death', 'Race/Eth', 'Education', 'Institution'])\n",
    "nyt_auth_demo"
   ]
  },
  {
   "cell_type": "code",
   "execution_count": null,
   "id": "6190b641-0e44-4983-b08a-00de9ee2192d",
   "metadata": {},
   "outputs": [],
   "source": []
  },
  {
   "cell_type": "code",
   "execution_count": null,
   "id": "c6a05963-a045-4425-a648-1c0aaacdb9c4",
   "metadata": {},
   "outputs": [],
   "source": []
  },
  {
   "cell_type": "code",
   "execution_count": null,
   "id": "bf25bbfe-f30d-4d98-82ed-7769d7749ff5",
   "metadata": {},
   "outputs": [],
   "source": [
    "with open(\"../nytimes/authors.txt\", \"w\") as output:\n",
    "    output.write(str(nyt_authors))"
   ]
  },
  {
   "cell_type": "code",
   "execution_count": null,
   "id": "0de5883d-0349-4bdd-b190-7106ed7c7deb",
   "metadata": {},
   "outputs": [],
   "source": [
    "nyt.title.nunique()"
   ]
  },
  {
   "cell_type": "code",
   "execution_count": null,
   "id": "198b13bd-4a64-462a-955e-8977e4f729e3",
   "metadata": {},
   "outputs": [],
   "source": [
    "author_demo = pd.read_csv(\"../nytimes/authors_demographics.csv\")"
   ]
  },
  {
   "cell_type": "code",
   "execution_count": null,
   "id": "fe8bf169-dc76-42cf-8b1d-c616252d1d13",
   "metadata": {},
   "outputs": [],
   "source": [
    "author_demo.head()"
   ]
  },
  {
   "cell_type": "code",
   "execution_count": null,
   "id": "0c7bc48e-2eaf-444f-9210-f394a9ae47b9",
   "metadata": {},
   "outputs": [],
   "source": [
    "author_demo = author_demo.replace('NaN', pd.NA)"
   ]
  },
  {
   "cell_type": "code",
   "execution_count": null,
   "id": "fd0dcfe0-0d8b-4ca9-b6e7-c281cada22c3",
   "metadata": {},
   "outputs": [],
   "source": [
    "author_demo.head()"
   ]
  },
  {
   "cell_type": "code",
   "execution_count": null,
   "id": "271db348-6a50-451a-8f8e-612c95bee494",
   "metadata": {},
   "outputs": [],
   "source": []
  }
 ],
 "metadata": {
  "kernelspec": {
   "display_name": "Python 3 (ipykernel)",
   "language": "python",
   "name": "python3"
  },
  "language_info": {
   "codemirror_mode": {
    "name": "ipython",
    "version": 3
   },
   "file_extension": ".py",
   "mimetype": "text/x-python",
   "name": "python",
   "nbconvert_exporter": "python",
   "pygments_lexer": "ipython3",
   "version": "3.12.8"
  }
 },
 "nbformat": 4,
 "nbformat_minor": 5
}
