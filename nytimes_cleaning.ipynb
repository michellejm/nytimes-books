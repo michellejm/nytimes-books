{
 "cells": [
  {
   "cell_type": "code",
   "execution_count": 2,
   "id": "0d2a8f46-5c47-49ed-806a-be33a7637c9a",
   "metadata": {},
   "outputs": [],
   "source": [
    "import pandas as pd\n",
    "import numpy as np\n",
    "import matplotlib.pyplot as plt\n",
    "import openai"
   ]
  },
  {
   "cell_type": "code",
   "execution_count": 4,
   "id": "874efcec-ccd0-4369-b7f5-8ea5a8106767",
   "metadata": {},
   "outputs": [
    {
     "data": {
      "text/html": [
       "<div>\n",
       "<style scoped>\n",
       "    .dataframe tbody tr th:only-of-type {\n",
       "        vertical-align: middle;\n",
       "    }\n",
       "\n",
       "    .dataframe tbody tr th {\n",
       "        vertical-align: top;\n",
       "    }\n",
       "\n",
       "    .dataframe thead th {\n",
       "        text-align: right;\n",
       "    }\n",
       "</style>\n",
       "<table border=\"1\" class=\"dataframe\">\n",
       "  <thead>\n",
       "    <tr style=\"text-align: right;\">\n",
       "      <th></th>\n",
       "      <th>year</th>\n",
       "      <th>week</th>\n",
       "      <th>rank</th>\n",
       "      <th>title_id</th>\n",
       "      <th>title</th>\n",
       "      <th>author</th>\n",
       "    </tr>\n",
       "  </thead>\n",
       "  <tbody>\n",
       "    <tr>\n",
       "      <th>0</th>\n",
       "      <td>1931</td>\n",
       "      <td>1931-10-12</td>\n",
       "      <td>1</td>\n",
       "      <td>6477</td>\n",
       "      <td>THE TEN COMMANDMENTS</td>\n",
       "      <td>Warwick Deeping</td>\n",
       "    </tr>\n",
       "    <tr>\n",
       "      <th>1</th>\n",
       "      <td>1931</td>\n",
       "      <td>1931-10-12</td>\n",
       "      <td>2</td>\n",
       "      <td>1808</td>\n",
       "      <td>FINCHE'S FORTUNE</td>\n",
       "      <td>Mazo de la Roche</td>\n",
       "    </tr>\n",
       "    <tr>\n",
       "      <th>2</th>\n",
       "      <td>1931</td>\n",
       "      <td>1931-10-12</td>\n",
       "      <td>3</td>\n",
       "      <td>5304</td>\n",
       "      <td>THE GOOD EARTH</td>\n",
       "      <td>Pearl S. Buck</td>\n",
       "    </tr>\n",
       "    <tr>\n",
       "      <th>3</th>\n",
       "      <td>1931</td>\n",
       "      <td>1931-10-12</td>\n",
       "      <td>4</td>\n",
       "      <td>4038</td>\n",
       "      <td>SHADOWS ON THE ROCK</td>\n",
       "      <td>Willa Cather</td>\n",
       "    </tr>\n",
       "    <tr>\n",
       "      <th>4</th>\n",
       "      <td>1931</td>\n",
       "      <td>1931-10-12</td>\n",
       "      <td>5</td>\n",
       "      <td>3946</td>\n",
       "      <td>SCARMOUCHE THE KING MAKER</td>\n",
       "      <td>Rafael Sabatini</td>\n",
       "    </tr>\n",
       "  </tbody>\n",
       "</table>\n",
       "</div>"
      ],
      "text/plain": [
       "   year        week  rank  title_id                      title  \\\n",
       "0  1931  1931-10-12     1      6477       THE TEN COMMANDMENTS   \n",
       "1  1931  1931-10-12     2      1808           FINCHE'S FORTUNE   \n",
       "2  1931  1931-10-12     3      5304             THE GOOD EARTH   \n",
       "3  1931  1931-10-12     4      4038        SHADOWS ON THE ROCK   \n",
       "4  1931  1931-10-12     5      3946  SCARMOUCHE THE KING MAKER   \n",
       "\n",
       "             author  \n",
       "0   Warwick Deeping  \n",
       "1  Mazo de la Roche  \n",
       "2     Pearl S. Buck  \n",
       "3      Willa Cather  \n",
       "4   Rafael Sabatini  "
      ]
     },
     "execution_count": 4,
     "metadata": {},
     "output_type": "execute_result"
    }
   ],
   "source": [
    "nyt = pd.read_csv(\"nyt_full.tsv\", sep = '\\t')\n",
    "nyt.head()"
   ]
  },
  {
   "cell_type": "code",
   "execution_count": 6,
   "id": "cf5665a6-587a-4d94-a414-789c2e84fd33",
   "metadata": {},
   "outputs": [
    {
     "data": {
      "text/plain": [
       "2210"
      ]
     },
     "execution_count": 6,
     "metadata": {},
     "output_type": "execute_result"
    }
   ],
   "source": [
    "nyt.author.nunique()"
   ]
  },
  {
   "cell_type": "code",
   "execution_count": 8,
   "id": "9fe7f7b8-ef98-40f9-b571-54286834b74d",
   "metadata": {},
   "outputs": [
    {
     "name": "stdout",
     "output_type": "stream",
     "text": [
      "0                        Warwick Deeping\n",
      "1                       Mazo de la Roche\n",
      "2                          Pearl S. Buck\n",
      "3                           Willa Cather\n",
      "4                        Rafael Sabatini\n",
      "                      ...               \n",
      "60381                             Halsey\n",
      "60382                       Brit Bennett\n",
      "60383                        Delia Owens\n",
      "60384                    Fredrik Backman\n",
      "60385    Clive Cussler and Boyd Morrison\n",
      "Name: author, Length: 60386, dtype: object\n"
     ]
    }
   ],
   "source": [
    "print(nyt.author)"
   ]
  },
  {
   "cell_type": "code",
   "execution_count": 50,
   "id": "11b3d5fb-50d3-486b-892b-2429a574fa60",
   "metadata": {},
   "outputs": [],
   "source": [
    "# replace written & illustrated by \n",
    "nyt.author = nyt.author.replace(\"written and illustrated by \",\"\", regex = True)"
   ]
  },
  {
   "cell_type": "markdown",
   "id": "8451f371-15ed-4ee5-b099-25e05f08f863",
   "metadata": {},
   "source": [
    "## separate complicated entries"
   ]
  },
  {
   "cell_type": "code",
   "execution_count": 61,
   "id": "a8a0b36a-b41f-4b25-97d3-e04ba741faf2",
   "metadata": {},
   "outputs": [
    {
     "name": "stdout",
     "output_type": "stream",
     "text": [
      "how many problem entries 2416\n",
      "0.04000927367270559\n",
      "how many unique problems 189\n"
     ]
    }
   ],
   "source": [
    "#if there is a preposition, there's complication\n",
    "nyt['problem'] = nyt.author.str.contains(' and | with | by ', regex = True, case = False)\n",
    "print(\"how many problem entries\", nyt.problem.sum())\n",
    "print(nyt.problem.sum()/len(nyt))\n",
    "\n",
    "# new dataframe with just problems\n",
    "nyt_review = nyt[nyt.problem == True]\n",
    "print(\"how many unique problems\", len(nyt_review.author.unique()))\n",
    "\n",
    "#new dataframe without problems \n",
    "nyt_single = nyt[nyt.problem == False]\n",
    "nyt_single.to_csv('nyt_single_authors.csv', index=False)"
   ]
  },
  {
   "cell_type": "code",
   "execution_count": 90,
   "id": "e083c238-0b3a-4dbf-86ed-5275c815be27",
   "metadata": {},
   "outputs": [
    {
     "name": "stdout",
     "output_type": "stream",
     "text": [
      "['Gideon Wyck, edited by Alexander Laing' 'edited by Somerset Maugham'\n",
      " 'edited by Armin L. Robinson' 'edited by Nicholas Meyer'\n",
      " 'edited by William J. Bennett. Illustrated by Michael Hague'\n",
      " 'Margaret Mitchell. Edited by Debra Freer'\n",
      " 'edited by John Updike and Katrina Kenison' 'edited by Joyce Reardon'\n",
      " 'Hannah Crafts. Edited by Henry Louis Gates Jr'\n",
      " 'J. R. R. Tolkien. Edited by Christopher Tolkien. Illustrated by Alan Lee'\n",
      " 'J. R. R. Tolkien. Edited by Christopher Tolkien'\n",
      " 'edited by Charlaine Harris and Toni L. P. Kelner'\n",
      " 'edited by George R. R. Martin and Gardner Dozois'\n",
      " 'Lucia Berlin, edited by Stephen Emerson']\n"
     ]
    },
    {
     "name": "stderr",
     "output_type": "stream",
     "text": [
      "/var/folders/p7/4d0x8hyj4mb4xypm89k57lrr0000gn/T/ipykernel_69500/4121782298.py:3: SettingWithCopyWarning: \n",
      "A value is trying to be set on a copy of a slice from a DataFrame.\n",
      "Try using .loc[row_indexer,col_indexer] = value instead\n",
      "\n",
      "See the caveats in the documentation: https://pandas.pydata.org/pandas-docs/stable/user_guide/indexing.html#returning-a-view-versus-a-copy\n",
      "  nyt_review['edited'] = nyt_review.author.str.contains('edited', regex = True, case = False)\n"
     ]
    }
   ],
   "source": [
    "# editors\n",
    "#has_edited = nyt_review.author.str.contains('edited', regex = True, case = False)\n",
    "nyt_review['edited'] = nyt_review.author.str.contains('edited', regex = True, case = False)\n",
    "nyt_review.edited.sum()\n",
    "\n",
    "# new dataframe with just editors\n",
    "nyt_edited = nyt_review[nyt_review.edited == True]\n",
    "print(nyt_edited.author.unique())"
   ]
  },
  {
   "cell_type": "code",
   "execution_count": null,
   "id": "3f3eb8e5-4845-49bd-97d9-c2c668ff143a",
   "metadata": {},
   "outputs": [],
   "source": [
    "# if there's an author with editor, remove editor, else treat editor as author \n",
    "nyt_edited['author_alt'] = \n",
    "\n",
    "if name[:10] == 'edited by ':\n",
    "    remove 'edited by ' and transfer rest of string to the 'author_alt' column\n",
    "if name[:10] != 'edited by '\"\n",
    "    "
   ]
  },
  {
   "cell_type": "code",
   "execution_count": null,
   "id": "adb3ca2c-2c40-4154-a2e5-c135f6b42f12",
   "metadata": {},
   "outputs": [],
   "source": []
  },
  {
   "cell_type": "code",
   "execution_count": 12,
   "id": "5c1b35c2-de69-4c67-b610-b31eedda4fc2",
   "metadata": {},
   "outputs": [],
   "source": [
    "# handle complicated authors"
   ]
  },
  {
   "cell_type": "code",
   "execution_count": 14,
   "id": "28281375-d2cc-4848-bbad-44622d86947e",
   "metadata": {},
   "outputs": [],
   "source": [
    "# authors + illustrators"
   ]
  },
  {
   "cell_type": "code",
   "execution_count": null,
   "id": "f8e5abd4-3e40-4728-9832-7e69cb2ce079",
   "metadata": {},
   "outputs": [],
   "source": [
    "nyt_multi['three'] = nyt_multi.author.str.contains(',| with ', regex = True)\n",
    "print(nyt_multi.three.sum())\n",
    "\n",
    "nyt_two = nyt_multi[nyt_multi.three != True]\n",
    "nyt_three_more = nyt_multi[nyt_multi.three == True]"
   ]
  },
  {
   "cell_type": "code",
   "execution_count": null,
   "id": "ad3fcb32-fb4d-46ab-8cf0-719a8d6adb3e",
   "metadata": {},
   "outputs": [],
   "source": [
    "# sharing last name (i.e., Janet and Allan Ahlberg\n",
    "\n",
    "# same author different spelling (i.e., James Norman Hall or James N. Hall)\n",
    "\n",
    "# extraneous words (i.e. 'Edited by ', 'Illustrated by '\n"
   ]
  }
 ],
 "metadata": {
  "kernelspec": {
   "display_name": "Python [conda env:base] *",
   "language": "python",
   "name": "conda-base-py"
  },
  "language_info": {
   "codemirror_mode": {
    "name": "ipython",
    "version": 3
   },
   "file_extension": ".py",
   "mimetype": "text/x-python",
   "name": "python",
   "nbconvert_exporter": "python",
   "pygments_lexer": "ipython3",
   "version": "3.12.7"
  }
 },
 "nbformat": 4,
 "nbformat_minor": 5
}
