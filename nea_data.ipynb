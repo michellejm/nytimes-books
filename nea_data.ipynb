{
 "cells": [
  {
   "cell_type": "code",
   "execution_count": 2,
   "id": "b111a9fd-e14c-483d-abf3-e98a51be96ba",
   "metadata": {},
   "outputs": [],
   "source": [
    "import pandas as pd\n",
    "import numpy as np\n",
    "import matplotlib.pyplot as plt\n",
    "import os"
   ]
  },
  {
   "cell_type": "code",
   "execution_count": 4,
   "id": "efb8a7e5-c4dc-42fb-9d6d-5adebd960c63",
   "metadata": {},
   "outputs": [
    {
     "data": {
      "text/html": [
       "<div>\n",
       "<style scoped>\n",
       "    .dataframe tbody tr th:only-of-type {\n",
       "        vertical-align: middle;\n",
       "    }\n",
       "\n",
       "    .dataframe tbody tr th {\n",
       "        vertical-align: top;\n",
       "    }\n",
       "\n",
       "    .dataframe thead th {\n",
       "        text-align: right;\n",
       "    }\n",
       "</style>\n",
       "<table border=\"1\" class=\"dataframe\">\n",
       "  <thead>\n",
       "    <tr style=\"text-align: right;\">\n",
       "      <th></th>\n",
       "      <th>nea_person_id</th>\n",
       "      <th>full_name_lastfirst</th>\n",
       "      <th>full_name_firstlast</th>\n",
       "      <th>given_name_middle</th>\n",
       "      <th>family_name</th>\n",
       "      <th>nea_grant_year</th>\n",
       "      <th>other_nea_grant</th>\n",
       "      <th>country</th>\n",
       "      <th>us_state</th>\n",
       "      <th>hometown</th>\n",
       "      <th>...</th>\n",
       "      <th>gender</th>\n",
       "      <th>race_ethnicity</th>\n",
       "      <th>ba</th>\n",
       "      <th>ba2</th>\n",
       "      <th>ma</th>\n",
       "      <th>ma2</th>\n",
       "      <th>phd</th>\n",
       "      <th>mfa</th>\n",
       "      <th>mfa2</th>\n",
       "      <th>post45_hathi_entry</th>\n",
       "    </tr>\n",
       "  </thead>\n",
       "  <tbody>\n",
       "    <tr>\n",
       "      <th>0</th>\n",
       "      <td>19</td>\n",
       "      <td>Adams, Leonie</td>\n",
       "      <td>Leonie Adams</td>\n",
       "      <td>Leonie</td>\n",
       "      <td>Adams</td>\n",
       "      <td>1966</td>\n",
       "      <td>NaN</td>\n",
       "      <td>USA</td>\n",
       "      <td>NY</td>\n",
       "      <td>New York</td>\n",
       "      <td>...</td>\n",
       "      <td>female</td>\n",
       "      <td>uniden</td>\n",
       "      <td>Barnard College</td>\n",
       "      <td>NaN</td>\n",
       "      <td>NaN</td>\n",
       "      <td>NaN</td>\n",
       "      <td>NaN</td>\n",
       "      <td>NaN</td>\n",
       "      <td>NaN</td>\n",
       "      <td>NaN</td>\n",
       "    </tr>\n",
       "    <tr>\n",
       "      <th>1</th>\n",
       "      <td>177</td>\n",
       "      <td>Belitt, Ben</td>\n",
       "      <td>Ben Belitt</td>\n",
       "      <td>Ben</td>\n",
       "      <td>Belitt</td>\n",
       "      <td>1966</td>\n",
       "      <td>NaN</td>\n",
       "      <td>USA</td>\n",
       "      <td>VT</td>\n",
       "      <td>Bennington</td>\n",
       "      <td>...</td>\n",
       "      <td>male</td>\n",
       "      <td>uniden</td>\n",
       "      <td>University of Virginia</td>\n",
       "      <td>NaN</td>\n",
       "      <td>University of Virginia</td>\n",
       "      <td>NaN</td>\n",
       "      <td>NaN</td>\n",
       "      <td>NaN</td>\n",
       "      <td>NaN</td>\n",
       "      <td>NaN</td>\n",
       "    </tr>\n",
       "    <tr>\n",
       "      <th>2</th>\n",
       "      <td>235</td>\n",
       "      <td>Bird, Laurel</td>\n",
       "      <td>Laurel Bird</td>\n",
       "      <td>Laurel</td>\n",
       "      <td>Bird</td>\n",
       "      <td>1966</td>\n",
       "      <td>NaN</td>\n",
       "      <td>USA</td>\n",
       "      <td>TN</td>\n",
       "      <td>Knoxville</td>\n",
       "      <td>...</td>\n",
       "      <td>female</td>\n",
       "      <td>uniden</td>\n",
       "      <td>NaN</td>\n",
       "      <td>NaN</td>\n",
       "      <td>NaN</td>\n",
       "      <td>NaN</td>\n",
       "      <td>NaN</td>\n",
       "      <td>NaN</td>\n",
       "      <td>NaN</td>\n",
       "      <td>NaN</td>\n",
       "    </tr>\n",
       "    <tr>\n",
       "      <th>3</th>\n",
       "      <td>282</td>\n",
       "      <td>Bourjaily, Vance</td>\n",
       "      <td>Vance Bourjaily</td>\n",
       "      <td>Vance</td>\n",
       "      <td>Bourjaily</td>\n",
       "      <td>1966</td>\n",
       "      <td>1979</td>\n",
       "      <td>USA</td>\n",
       "      <td>IA</td>\n",
       "      <td>Iowa City</td>\n",
       "      <td>...</td>\n",
       "      <td>male</td>\n",
       "      <td>uniden</td>\n",
       "      <td>Bowdoin College</td>\n",
       "      <td>NaN</td>\n",
       "      <td>NaN</td>\n",
       "      <td>NaN</td>\n",
       "      <td>NaN</td>\n",
       "      <td>NaN</td>\n",
       "      <td>NaN</td>\n",
       "      <td>NaN</td>\n",
       "    </tr>\n",
       "    <tr>\n",
       "      <th>4</th>\n",
       "      <td>303</td>\n",
       "      <td>Brasfield, Samuel</td>\n",
       "      <td>Samuel Brasfield</td>\n",
       "      <td>Samuel</td>\n",
       "      <td>Brasfield</td>\n",
       "      <td>1966</td>\n",
       "      <td>NaN</td>\n",
       "      <td>USA</td>\n",
       "      <td>AL</td>\n",
       "      <td>Demopolis</td>\n",
       "      <td>...</td>\n",
       "      <td>male</td>\n",
       "      <td>uniden</td>\n",
       "      <td>NaN</td>\n",
       "      <td>NaN</td>\n",
       "      <td>NaN</td>\n",
       "      <td>NaN</td>\n",
       "      <td>NaN</td>\n",
       "      <td>NaN</td>\n",
       "      <td>NaN</td>\n",
       "      <td>NaN</td>\n",
       "    </tr>\n",
       "  </tbody>\n",
       "</table>\n",
       "<p>5 rows × 21 columns</p>\n",
       "</div>"
      ],
      "text/plain": [
       "   nea_person_id full_name_lastfirst full_name_firstlast given_name_middle  \\\n",
       "0             19       Adams, Leonie        Leonie Adams            Leonie   \n",
       "1            177         Belitt, Ben          Ben Belitt               Ben   \n",
       "2            235        Bird, Laurel         Laurel Bird            Laurel   \n",
       "3            282    Bourjaily, Vance     Vance Bourjaily             Vance   \n",
       "4            303   Brasfield, Samuel    Samuel Brasfield            Samuel   \n",
       "\n",
       "  family_name  nea_grant_year other_nea_grant country us_state    hometown  \\\n",
       "0       Adams            1966             NaN     USA       NY    New York   \n",
       "1      Belitt            1966             NaN     USA       VT  Bennington   \n",
       "2        Bird            1966             NaN     USA       TN   Knoxville   \n",
       "3   Bourjaily            1966            1979     USA       IA   Iowa City   \n",
       "4   Brasfield            1966             NaN     USA       AL   Demopolis   \n",
       "\n",
       "   ...  gender race_ethnicity                      ba  ba2  \\\n",
       "0  ...  female         uniden         Barnard College  NaN   \n",
       "1  ...    male         uniden  University of Virginia  NaN   \n",
       "2  ...  female         uniden                     NaN  NaN   \n",
       "3  ...    male         uniden         Bowdoin College  NaN   \n",
       "4  ...    male         uniden                     NaN  NaN   \n",
       "\n",
       "                       ma  ma2  phd  mfa mfa2 post45_hathi_entry  \n",
       "0                     NaN  NaN  NaN  NaN  NaN                NaN  \n",
       "1  University of Virginia  NaN  NaN  NaN  NaN                NaN  \n",
       "2                     NaN  NaN  NaN  NaN  NaN                NaN  \n",
       "3                     NaN  NaN  NaN  NaN  NaN                NaN  \n",
       "4                     NaN  NaN  NaN  NaN  NaN                NaN  \n",
       "\n",
       "[5 rows x 21 columns]"
      ]
     },
     "execution_count": 4,
     "metadata": {},
     "output_type": "execute_result"
    }
   ],
   "source": [
    "df = pd.read_csv(\"Post45_NEAData_Final.csv\")\n",
    "df.head()"
   ]
  },
  {
   "cell_type": "code",
   "execution_count": 6,
   "id": "25abeaec-a09c-462a-b014-86215a25c1b5",
   "metadata": {},
   "outputs": [
    {
     "name": "stdout",
     "output_type": "stream",
     "text": [
      "No race 2617\n",
      "Race 1088\n",
      "race_ethnicity\n",
      "uniden                         2617\n",
      "afam                            220\n",
      "white                           195\n",
      "uniden / jewish                 136\n",
      "asianam                         118\n",
      "                               ... \n",
      "uniden / romanianam               1\n",
      "caribam / latinx                  1\n",
      "indigenous / latinx / white       1\n",
      "latinx / portugueseam             1\n",
      "uniden / ukranianam               1\n",
      "Name: count, Length: 94, dtype: int64\n",
      "No gender 11\n"
     ]
    }
   ],
   "source": [
    "# how many don't have a race or ethnicity\n",
    "print(\"No race\", len(df[df.race_ethnicity == \"uniden\"]))\n",
    "print(\"Race\", len(df[df.race_ethnicity != \"uniden\"]))\n",
    "print(df.race_ethnicity.value_counts())\n",
    "\n",
    "# how many don't have gender listed?\n",
    "print(\"No gender\", len(df[df.gender == \"unknown\"]))"
   ]
  },
  {
   "cell_type": "code",
   "execution_count": 8,
   "id": "2b005fd8-8650-46f5-a5eb-3468509f591a",
   "metadata": {},
   "outputs": [
    {
     "data": {
      "text/plain": [
       "race_ethnicity\n",
       "uniden                         2617\n",
       "afam                            220\n",
       "white                           195\n",
       "jewish                          136\n",
       "asianam                         118\n",
       "                               ... \n",
       "romanianam                        1\n",
       "caribam / latinx                  1\n",
       "indigenous / latinx / white       1\n",
       "latinx / portugueseam             1\n",
       "ukranianam                        1\n",
       "Name: count, Length: 94, dtype: int64"
      ]
     },
     "execution_count": 8,
     "metadata": {},
     "output_type": "execute_result"
    }
   ],
   "source": [
    "#replace uniden + another value with just that other value\n",
    "df.race_ethnicity = df.race_ethnicity.replace(\"uniden / \",\"\", regex = True)\n",
    "r_e = df.race_ethnicity.value_counts()\n",
    "r_e"
   ]
  },
  {
   "cell_type": "code",
   "execution_count": 10,
   "id": "88f40e0b-dcea-4cb7-91db-79c2f950d97d",
   "metadata": {},
   "outputs": [
    {
     "data": {
      "text/plain": [
       "<Axes: title={'center': 'Race of NEA Creative Writing Recipients'}, xlabel='race_ethnicity'>"
      ]
     },
     "execution_count": 10,
     "metadata": {},
     "output_type": "execute_result"
    },
    {
     "data": {
      "image/png": "[encoded data removed]",
      "text/plain": [
       "<Figure size 640x480 with 1 Axes>"
      ]
     },
     "metadata": {},
     "output_type": "display_data"
    }
   ],
   "source": [
    "#quick plot of top 10 race/ethnicities\n",
    "race = r_e[1:10]\n",
    "race.plot.bar(title = \"Race of NEA Creative Writing Recipients\")"
   ]
  },
  {
   "cell_type": "code",
   "execution_count": 12,
   "id": "f607bfb7-6b92-45ab-8f65-2896989dbf95",
   "metadata": {},
   "outputs": [
    {
     "data": {
      "text/plain": [
       "ba\n",
       "Harvard University                   106\n",
       "Columbia University                   68\n",
       "Yale University                       64\n",
       "University of California Berkeley     59\n",
       "University of Michigan Ann Arbor      50\n",
       "Brown University                      42\n",
       "San Francisco State University        40\n",
       "Oberlin College                       37\n",
       "New York University                   36\n",
       "University of Iowa                    35\n",
       "University of Washington              33\n",
       "Name: count, dtype: int64"
      ]
     },
     "execution_count": 12,
     "metadata": {},
     "output_type": "execute_result"
    }
   ],
   "source": [
    "ba = df.ba.value_counts()[:11]\n",
    "ba"
   ]
  },
  {
   "cell_type": "code",
   "execution_count": 16,
   "id": "bb425579-e459-40a5-9c23-8509cd5d77a0",
   "metadata": {},
   "outputs": [
    {
     "name": "stdout",
     "output_type": "stream",
     "text": [
      "ba listed  2973\n",
      "ba listed  80.24291497975709 %\n"
     ]
    },
    {
     "data": {
      "text/plain": [
       "<Axes: xlabel='ba'>"
      ]
     },
     "execution_count": 16,
     "metadata": {},
     "output_type": "execute_result"
    },
    {
     "data": {
      "image/png": "[encoded data removed]",
      "text/plain": [
       "<Figure size 640x480 with 1 Axes>"
      ]
     },
     "metadata": {},
     "output_type": "display_data"
    }
   ],
   "source": [
    "#quick plot of ba distribution\n",
    "print(\"ba listed \",len(df) - df.ba.isna().sum())\n",
    "print(\"ba listed \", ((len(df) - df.ba.isna().sum())/len(df))*100,\"%\")\n",
    "ba.plot.bar()"
   ]
  },
  {
   "cell_type": "code",
   "execution_count": 18,
   "id": "4463d962-9d5d-4907-8034-899f5a6d3e48",
   "metadata": {},
   "outputs": [
    {
     "data": {
      "text/plain": [
       "Ivy\n",
       "False    3327\n",
       "True      378\n",
       "Name: count, dtype: int64"
      ]
     },
     "execution_count": 18,
     "metadata": {},
     "output_type": "execute_result"
    }
   ],
   "source": [
    "ivies = [\"Brown University\", \"Columbia University\", \"Cornell University\", \"Dartmouth College\", \n",
    "\"Harvard University\", \"University of Pennsylvania\", \"Princeton University\", \"Yale University\"]\n",
    "\n",
    "df[\"Ivy\"] = df.ba.isin(ivies)\n",
    "df.Ivy.value_counts()"
   ]
  },
  {
   "cell_type": "code",
   "execution_count": 20,
   "id": "0b0ff897-f08f-4b97-b56f-d9bcc2742c16",
   "metadata": {},
   "outputs": [
    {
     "data": {
      "text/plain": [
       "Tier\n",
       "not_found     3059\n",
       "Ivy League     378\n",
       "Tier 2         164\n",
       "Tier 1         104\n",
       "Name: count, dtype: int64"
      ]
     },
     "execution_count": 20,
     "metadata": {},
     "output_type": "execute_result"
    }
   ],
   "source": [
    "ivies = [\"Brown University\", \"Columbia University\", \"Cornell University\", \"Dartmouth College\", \n",
    "\"Harvard University\", \"University of Pennsylvania\", \"Princeton University\", \"Yale University\"]\n",
    "tier_1_schools = [\n",
    "    \"Stanford University\",\n",
    "    \"Massachusetts Institute of Technology (MIT)\",\n",
    "    \"California Institute of Technology (Caltech)\",\n",
    "    \"University of Chicago\",\n",
    "    \"Duke University\",\n",
    "    \"Northwestern University\",\n",
    "    \"University of California, Berkeley (UC Berkeley)\",\n",
    "    \"University of California, Los Angeles (UCLA)\",\n",
    "    \"University of Michigan, Ann Arbor\",\n",
    "    \"University of Texas at Austin\",\n",
    "    \"Carnegie Mellon University\",\n",
    "    \"University of Southern California (USC)\",\n",
    "    \"Johns Hopkins University\",\n",
    "    \"Georgia Institute of Technology (Georgia Tech)\",\n",
    "    \"University of North Carolina at Chapel Hill\"\n",
    "]\n",
    "\n",
    "tier_2_schools = [\n",
    "    \"University of Washington\",\n",
    "    \"University of Wisconsin-Madison\",\n",
    "    \"University of Illinois Urbana-Champaign\",\n",
    "    \"University of Florida\",\n",
    "    \"Pennsylvania State University (Penn State)\",\n",
    "    \"Ohio State University\",\n",
    "    \"Purdue University\",\n",
    "    \"University of Maryland, College Park\",\n",
    "    \"Texas A&M University\",\n",
    "    \"University of Minnesota, Twin Cities\",\n",
    "    \"University of Virginia\",\n",
    "    \"University of California, San Diego (UCSD)\",\n",
    "    \"University of California, Davis (UC Davis)\",\n",
    "    \"Boston University\",\n",
    "    \"University of Rochester\",\n",
    "    \"Michigan State University\",\n",
    "    \"Indiana University Bloomington\",\n",
    "    \"University of Colorado Boulder\",\n",
    "    \"University of Arizona\",\n",
    "    \"University of Utah\"\n",
    "]\n",
    "\n",
    "top_schools = ivies + tier_1_schools\n",
    "\n",
    "# Define a function to fill the new column based on string matching\n",
    "def fill_new_column(row):\n",
    "    if row['ba'] in ivies:\n",
    "        return \"Ivy League\"\n",
    "    elif row['ba'] in tier_1_schools:\n",
    "        return \"Tier 1\"\n",
    "    elif row['ba'] in tier_2_schools:\n",
    "        return \"Tier 2\"\n",
    "    else:\n",
    "        return \"not_found\"\n",
    "\n",
    "# Apply the function to create a new column\n",
    "df['Tier'] = df.apply(fill_new_column, axis=1)\n",
    "\n",
    "df.Tier.value_counts()"
   ]
  },
  {
   "cell_type": "code",
   "execution_count": 22,
   "id": "c10cfea4-5d23-4a6c-8cc7-c13494af46f7",
   "metadata": {},
   "outputs": [
    {
     "data": {
      "text/plain": [
       "Top_schools\n",
       "Other         0.869906\n",
       "Top School    0.130094\n",
       "Name: proportion, dtype: float64"
      ]
     },
     "execution_count": 22,
     "metadata": {},
     "output_type": "execute_result"
    }
   ],
   "source": [
    "top_schools = ivies + tier_1_schools\n",
    "\n",
    "# Define a function to fill the new column based on string matching\n",
    "def fill_new_column_top(row):\n",
    "    if row['ba'] in top_schools:\n",
    "        return \"Top School\"\n",
    "    else:\n",
    "        return \"Other\"\n",
    "        \n",
    "# Apply the function to create a new column\n",
    "df['Top_schools'] = df.apply(fill_new_column_top, axis=1)\n",
    "\n",
    "top_schools = df.Top_schools.value_counts(normalize=True)\n",
    "top_schools"
   ]
  },
  {
   "cell_type": "code",
   "execution_count": 24,
   "id": "6cb7fdcb-a060-404d-930a-746170b8c704",
   "metadata": {},
   "outputs": [
    {
     "data": {
      "text/plain": [
       "<Axes: ylabel='proportion'>"
      ]
     },
     "execution_count": 24,
     "metadata": {},
     "output_type": "execute_result"
    },
    {
     "data": {
      "image/png": "[encoded data removed]",
      "text/plain": [
       "<Figure size 640x480 with 1 Axes>"
      ]
     },
     "metadata": {},
     "output_type": "display_data"
    }
   ],
   "source": [
    "top_schools.plot.pie()"
   ]
  },
  {
   "cell_type": "code",
   "execution_count": null,
   "id": "1202ea1c-a1c1-4bc3-bd45-55ad76f04151",
   "metadata": {},
   "outputs": [],
   "source": []
  }
 ],
 "metadata": {
  "kernelspec": {
   "display_name": "Python [conda env:base] *",
   "language": "python",
   "name": "conda-base-py"
  },
  "language_info": {
   "codemirror_mode": {
    "name": "ipython",
    "version": 3
   },
   "file_extension": ".py",
   "mimetype": "text/x-python",
   "name": "python",
   "nbconvert_exporter": "python",
   "pygments_lexer": "ipython3",
   "version": "3.12.7"
  }
 },
 "nbformat": 4,
 "nbformat_minor": 5
}
